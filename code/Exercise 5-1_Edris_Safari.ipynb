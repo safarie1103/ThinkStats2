{
 "cells": [
  {
   "cell_type": "markdown",
   "metadata": {
    "collapsed": true
   },
   "source": [
    "## File : Exercise 5-1_Edris_Safari.ipynb\n",
    "## Name:Edris Safari\n",
    "## Date:1/10/2019\n",
    "## Course: DSC530 - Data Exploration and Analysis\n",
    "## Desc: Week5 exercise 5-1 assignment\n"
   ]
  },
  {
   "cell_type": "code",
   "execution_count": 1,
   "metadata": {
    "pycharm": {
     "is_executing": false
    }
   },
   "outputs": [],
   "source": [
    "import nsfg\n",
    "import first\n",
    "import thinkstats2\n",
    "import thinkplot\n",
    "from scipy.stats import norm"
   ]
  },
  {
   "cell_type": "markdown",
   "metadata": {},
   "source": [
    "### Calculate the percentage of men whose height falls between 5'10\" and 6'11\" given the distribution of heights is roughly normal with parameters mean($\\mu$ = 178 cm) and standard deviation($\\sigma$ =  7.7 cm)"
   ]
  },
  {
   "cell_type": "code",
   "execution_count": 10,
   "metadata": {
    "pycharm": {
     "is_executing": false,
     "name": "#%%\n"
    }
   },
   "outputs": [
    {
     "data": {
      "text/plain": "34.27468376314746"
     },
     "metadata": {},
     "output_type": "execute_result",
     "execution_count": 10
    }
   ],
   "source": [
    "# Convert low/high range to centimeter\n",
    "low = ((5*12)+10)*2.54\n",
    "high = ((6*12)+ 1)*2.54\n",
    "\n",
    "# Get a normal distribution with given mean and SD\n",
    "mean = 178\n",
    "std = 7.7\n",
    "norm_dist = norm(loc=mean , scale = std )\n",
    "\n",
    "low_cdf = norm_dist.cdf(low)\n",
    "high_cdf = norm_dist.cdf(high)\n",
    "\n",
    "(high_cdf - low_cdf)*100"
   ]
  },
  {
   "cell_type": "code",
   "execution_count": 8,
   "outputs": [
    {
     "name": "stdout",
     "text": [
      "Percentage of men within 5 10 and 6 11 51.03508571625228\n"
     ],
     "output_type": "stream"
    }
   ],
   "source": [
    "print('Percentage of men within 5 10 and 6 11' ,  (high_cdf - low_cdf)*100)\n",
    "\n"
   ],
   "metadata": {
    "collapsed": false,
    "pycharm": {
     "name": "#%%\n",
     "is_executing": false
    }
   }
  }
 ],
 "metadata": {
  "kernelspec": {
   "display_name": "Python 3",
   "language": "python",
   "name": "python3"
  },
  "language_info": {
   "codemirror_mode": {
    "name": "ipython",
    "version": 3
   },
   "file_extension": ".py",
   "mimetype": "text/x-python",
   "name": "python",
   "nbconvert_exporter": "python",
   "pygments_lexer": "ipython3",
   "version": "3.7.4"
  },
  "pycharm": {
   "stem_cell": {
    "cell_type": "raw",
    "source": [],
    "metadata": {
     "collapsed": false
    }
   }
  }
 },
 "nbformat": 4,
 "nbformat_minor": 1
}