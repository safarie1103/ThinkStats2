{
 "cells": [
  {
   "cell_type": "code",
   "execution_count": 14,
   "metadata": {
    "collapsed": true,
    "pycharm": {
     "is_executing": false
    }
   },
   "outputs": [
    {
     "data": {
      "text/plain": "          A         B\na -0.273237 -1.484055\nb -0.054262  2.298427",
      "text/html": "<div>\n<style scoped>\n    .dataframe tbody tr th:only-of-type {\n        vertical-align: middle;\n    }\n\n    .dataframe tbody tr th {\n        vertical-align: top;\n    }\n\n    .dataframe thead th {\n        text-align: right;\n    }\n</style>\n<table border=\"1\" class=\"dataframe\">\n  <thead>\n    <tr style=\"text-align: right;\">\n      <th></th>\n      <th>A</th>\n      <th>B</th>\n    </tr>\n  </thead>\n  <tbody>\n    <tr>\n      <th>a</th>\n      <td>-0.273237</td>\n      <td>-1.484055</td>\n    </tr>\n    <tr>\n      <th>b</th>\n      <td>-0.054262</td>\n      <td>2.298427</td>\n    </tr>\n  </tbody>\n</table>\n</div>"
     },
     "metadata": {},
     "output_type": "execute_result",
     "execution_count": 14
    }
   ],
   "source": [
    "import numpy as np\n",
    "import pandas \n",
    "\n",
    "array = np.random.randn(4,2)\n",
    "df = pandas.DataFrame(array)\n",
    "df\n",
    "\n",
    "df = pandas.DataFrame(array,columns=['A','B'])\n",
    "df\n",
    "df = pandas.DataFrame(array,columns=['A','B'],index=['a','b','c','d'])\n",
    "df\n",
    "df['A']\n",
    "df.loc['a']\n",
    "df.iloc[0]\n",
    "df.loc[['a','c']]\n",
    "df['a':'c']\n",
    "df[0:2]"
   ]
  }
 ],
 "metadata": {
  "kernelspec": {
   "display_name": "Python 3",
   "language": "python",
   "name": "python3"
  },
  "language_info": {
   "codemirror_mode": {
    "name": "ipython",
    "version": 2
   },
   "file_extension": ".py",
   "mimetype": "text/x-python",
   "name": "python",
   "nbconvert_exporter": "python",
   "pygments_lexer": "ipython2",
   "version": "2.7.6"
  },
  "pycharm": {
   "stem_cell": {
    "cell_type": "raw",
    "source": [],
    "metadata": {
     "collapsed": false
    }
   }
  }
 },
 "nbformat": 4,
 "nbformat_minor": 0
}