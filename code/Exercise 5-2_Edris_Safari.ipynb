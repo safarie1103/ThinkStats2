{
 "cells": [
  {
   "cell_type": "markdown",
   "metadata": {
    "collapsed": true
   },
   "source": [
    "## File : Exercise 5-2_Edris_Safari.ipynb\n",
    "## Name:Edris Safari\n",
    "## Date:1/10/2019\n",
    "## Course: DSC530 - Data Exploration and Analysis\n",
    "## Desc: Week5 exercise 5-2 assignment\n"
   ]
  },
  {
   "cell_type": "code",
   "execution_count": 2,
   "metadata": {
    "pycharm": {
     "is_executing": false
    }
   },
   "outputs": [],
   "source": [
    "import nsfg\n",
    "import first\n",
    "import thinkstats2\n",
    "import thinkplot\n",
    "from scipy.stats import pareto"
   ]
  },
  {
   "cell_type": "markdown",
   "metadata": {},
   "source": [
    "### With a pareto distribution of human height and parameters $x_m=1m$ and $\\alpha=1.7$ with minimum 1m and median 1.5m\n",
    "### Plot this distribution and answer the following questions:\n",
    "1. What is the mean human height in Pareto world \n",
    "2. what fraction of the population is shorter than the mean\n",
    "3. If there are 7 billion people in the Pareto world, how many do we expect to be taller than 1 km?\n",
    "4. How tall do we expect the tallest person to be? "
   ]
  },
  {
   "cell_type": "code",
   "execution_count": 9,
   "metadata": {
    "pycharm": {
     "is_executing": false,
     "name": "#%%\n"
    }
   },
   "outputs": [
    {
     "name": "stdout",
     "text": [
      "The median of the distribution should be(1.5) 1.5034066538560549  meters.\n"
     ],
     "output_type": "stream"
    }
   ],
   "source": [
    "# Get Pareto distribution with given parameters for alpha and xm\n",
    "pareto_dist = pareto(b=1.7,scale=1)\n",
    "print('The median of the distribution should be(1.5)',pareto_dist.median(),' meters.')"
   ]
  },
  {
   "cell_type": "code",
   "execution_count": 10,
   "outputs": [
    {
     "name": "stdout",
     "text": [
      "The mean human height is:  <bound method rv_frozen.mean of <scipy.stats._distn_infrastructure.rv_frozen object at 0x1DCD75D0>>  meters.\n"
     ],
     "output_type": "stream"
    }
   ],
   "source": [
    "# Answer to Question 1\n",
    "print('The mean human height is: ',pareto_dist.mean, ' meters.')"
   ],
   "metadata": {
    "collapsed": false,
    "pycharm": {
     "name": "#%%\n",
     "is_executing": false
    }
   }
  },
  {
   "cell_type": "code",
   "execution_count": 11,
   "outputs": [
    {
     "name": "stdout",
     "text": [
      "Fraction of people shorter than the mean:  0.778739697565288  meters.\n"
     ],
     "output_type": "stream"
    }
   ],
   "source": [
    "# Answer to Question 2\n",
    "print('Fraction of people shorter than the mean: ',pareto_dist.cdf(pareto_dist.mean()), ' meters.')"
   ],
   "metadata": {
    "collapsed": false,
    "pycharm": {
     "name": "#%%\n",
     "is_executing": false
    }
   }
  },
  {
   "cell_type": "code",
   "execution_count": 13,
   "outputs": [
    {
     "name": "stdout",
     "text": [
      "Number of people taller than 1000 meters in a 7 billion population:  55602.976430479954  meters.\n"
     ],
     "output_type": "stream"
    }
   ],
   "source": [
    "# Answer to Question 3\n",
    "print('Number of people taller than 1000 meters in a 7 billion population: ',(1-pareto_dist.cdf(1000))*7000000000, ' people.')"
   ],
   "metadata": {
    "collapsed": false,
    "pycharm": {
     "name": "#%%\n",
     "is_executing": false
    }
   }
  },
  {
   "cell_type": "code",
   "execution_count": 14,
   "outputs": [
    {
     "name": "stdout",
     "text": [
      "The tallest person is::  618349.6106759505  meters.\n"
     ],
     "output_type": "stream"
    }
   ],
   "source": [
    "# Answer to Question 4\n",
    "print('The tallest person is:: ',pareto_dist.ppf(1 - 1/7000000000), ' meters.')\n"
   ],
   "metadata": {
    "collapsed": false,
    "pycharm": {
     "name": "#%%\n",
     "is_executing": false
    }
   }
  }
 ],
 "metadata": {
  "kernelspec": {
   "display_name": "Python 3",
   "language": "python",
   "name": "python3"
  },
  "language_info": {
   "codemirror_mode": {
    "name": "ipython",
    "version": 3
   },
   "file_extension": ".py",
   "mimetype": "text/x-python",
   "name": "python",
   "nbconvert_exporter": "python",
   "pygments_lexer": "ipython3",
   "version": "3.7.4"
  },
  "pycharm": {
   "stem_cell": {
    "cell_type": "raw",
    "source": [],
    "metadata": {
     "collapsed": false
    }
   }
  }
 },
 "nbformat": 4,
 "nbformat_minor": 1
}