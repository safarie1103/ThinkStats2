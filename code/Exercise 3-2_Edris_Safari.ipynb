{
 "cells": [
  {
   "cell_type": "markdown",
   "metadata": {
    "collapsed": true
   },
   "source": [
    "## File : Exercise 3-2_Edris_Safari.ipynb\n",
    "## Name:Edris Safari\n",
    "## Date:12/20/2019\n",
    "## Course: DSC530 - Data Exploration and Analysis\n",
    "## Desc: Week4 exercise 3-2 assignment\n"
   ]
  },
  {
   "cell_type": "code",
   "execution_count": 22,
   "metadata": {},
   "outputs": [],
   "source": [
    "from __future__ import print_function\n",
    "\n",
    "import numpy as np\n",
    "import sys\n",
    "\n",
    "import nsfg\n",
    "import first\n",
    "import thinkstats2\n",
    "import thinkplot"
   ]
  },
  {
   "cell_type": "markdown",
   "metadata": {},
   "source": [
    "### Function PmfMean(Borrowed from chap03soln.py) computes the pmf mean "
   ]
  },
  {
   "cell_type": "code",
   "execution_count": 23,
   "metadata": {},
   "outputs": [],
   "source": [
    "def PmfMean(pmf):\n",
    "    \"\"\"Computes the mean of a PMF.\n",
    "\n",
    "    Returns:\n",
    "        float mean\n",
    "    \"\"\"\n",
    "    mean = 0.0\n",
    "    for x, p in pmf.d.items():\n",
    "        mean += p * x\n",
    "    return mean\n"
   ]
  },
  {
   "cell_type": "markdown",
   "metadata": {},
   "source": [
    "### Function PmfVar(Borrowed from chap03soln.py) computes the pmf variance "
   ]
  },
  {
   "cell_type": "code",
   "execution_count": 24,
   "metadata": {},
   "outputs": [],
   "source": [
    "def PmfVar(pmf, mu=None):\n",
    "    \"\"\"Computes the variance of a PMF.\n",
    "\n",
    "    Args:\n",
    "        mu: the point around which the variance is computed;\n",
    "            if omitted, computes the mean\n",
    "\n",
    "    Returns:\n",
    "        float variance\n",
    "    \"\"\"\n",
    "    if mu is None:\n",
    "        mu = pmf.Mean()\n",
    "\n",
    "    var = 0.0\n",
    "    for x, p in pmf.d.items():\n",
    "        var += p * (x - mu) ** 2\n",
    "    return var"
   ]
  },
  {
   "cell_type": "markdown",
   "metadata": {},
   "source": [
    "### Get data from female respondants"
   ]
  },
  {
   "cell_type": "code",
   "execution_count": 14,
   "metadata": {
    "scrolled": true
   },
   "outputs": [],
   "source": [
    "resp = nsfg.ReadFemResp()"
   ]
  },
  {
   "cell_type": "markdown",
   "metadata": {},
   "source": [
    "### Compute pmf mean and variance for number of chaildren per hose hold"
   ]
  },
  {
   "cell_type": "code",
   "execution_count": 25,
   "metadata": {},
   "outputs": [],
   "source": [
    "numkdhh = resp.numkdhh\n",
    "pmf = thinkstats2.Pmf(numkdhh)\n",
    "mean = PmfMean(pmf)\n",
    "var = PmfVar(pmf)"
   ]
  },
  {
   "cell_type": "code",
   "execution_count": 26,
   "metadata": {},
   "outputs": [
    {
     "name": "stdout",
     "output_type": "stream",
     "text": [
      "mean and variance for pmf of numkdhh canculated by PmfMean and PmfVar  1.024205155043831 1.4128643263531195\n"
     ]
    }
   ],
   "source": [
    "print('mean and variance for pmf of numkdhh canculated by PmfMean and PmfVar ', mean, var)"
   ]
  },
  {
   "cell_type": "code",
   "execution_count": 27,
   "metadata": {},
   "outputs": [
    {
     "name": "stdout",
     "output_type": "stream",
     "text": [
      "mean and variance of numkdhh calculated by pmf class 1.024205155043831 1.4128643263531195\n"
     ]
    }
   ],
   "source": [
    "print('mean and variance of numkdhh calculated by pmf class', pmf.Mean(), pmf.Var())"
   ]
  }
 ],
 "metadata": {
  "kernelspec": {
   "display_name": "Python 3",
   "language": "python",
   "name": "python3"
  },
  "language_info": {
   "codemirror_mode": {
    "name": "ipython",
    "version": 3
   },
   "file_extension": ".py",
   "mimetype": "text/x-python",
   "name": "python",
   "nbconvert_exporter": "python",
   "pygments_lexer": "ipython3",
   "version": "3.7.4"
  }
 },
 "nbformat": 4,
 "nbformat_minor": 1
}
