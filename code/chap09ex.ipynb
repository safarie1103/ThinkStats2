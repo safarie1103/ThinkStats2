{
 "cells": [
  {
   "cell_type": "markdown",
   "metadata": {},
   "source": [
    "# Examples and Exercises from Think Stats, 2nd Edition\n",
    "\n",
    "http://thinkstats2.com\n",
    "\n",
    "Copyright 2016 Allen B. Downey\n",
    "\n",
    "MIT License: https://opensource.org/licenses/MIT\n"
   ]
  },
  {
   "cell_type": "code",
   "execution_count": 47,
   "metadata": {
    "pycharm": {
     "is_executing": true
    }
   },
   "outputs": [],
   "source": [
    "from __future__ import print_function, division\n",
    "\n",
    "%matplotlib inline\n",
    "\n",
    "import numpy as np\n",
    "\n",
    "import random\n",
    "\n",
    "import thinkstats2\n",
    "import thinkplot"
   ]
  },
  {
   "cell_type": "markdown",
   "metadata": {},
   "source": [
    "## Hypothesis testing"
   ]
  },
  {
   "cell_type": "markdown",
   "metadata": {},
   "source": [
    "The following is a version of `thinkstats2.HypothesisTest` with just the essential methods:"
   ]
  },
  {
   "cell_type": "code",
   "execution_count": 48,
   "metadata": {},
   "outputs": [],
   "source": [
    "class HypothesisTest(object):\n",
    "\n",
    "    def __init__(self, data):\n",
    "        self.data = data\n",
    "        self.MakeModel()\n",
    "        self.actual = self.TestStatistic(data)\n",
    "\n",
    "    def PValue(self, iters=1000):\n",
    "        self.test_stats = [self.TestStatistic(self.RunModel()) \n",
    "                           for _ in range(iters)]\n",
    "\n",
    "        count = sum(1 for x in self.test_stats if x >= self.actual)\n",
    "        return count / iters\n",
    "\n",
    "    def TestStatistic(self, data):\n",
    "        raise UnimplementedMethodException()\n",
    "\n",
    "    def MakeModel(self):\n",
    "        pass\n",
    "\n",
    "    def RunModel(self):\n",
    "        raise UnimplementedMethodException()"
   ]
  },
  {
   "cell_type": "markdown",
   "metadata": {},
   "source": [
    "And here's an example that uses it to compute the p-value of an experiment where we toss a coin 250 times and get 140 heads."
   ]
  },
  {
   "cell_type": "code",
   "execution_count": 49,
   "metadata": {},
   "outputs": [],
   "source": [
    "class CoinTest(HypothesisTest):\n",
    "\n",
    "    def TestStatistic(self, data):\n",
    "        heads, tails = data\n",
    "        test_stat = abs(heads - tails)\n",
    "        return test_stat\n",
    "\n",
    "    def RunModel(self):\n",
    "        heads, tails = self.data\n",
    "        n = heads + tails\n",
    "        sample = [random.choice('HT') for _ in range(n)]\n",
    "        hist = thinkstats2.Hist(sample)\n",
    "        data = hist['H'], hist['T']\n",
    "        return data"
   ]
  },
  {
   "cell_type": "markdown",
   "metadata": {},
   "source": [
    "The p-value turns out to be about 7%, which is considered on the border of statistical significance of 5%.\n",
    "ct = CoinTest((140, 110)) instantiates the class and the __init__ method computes self.actual. The PValue call runs the method and computes the p-value by calling the RunModel method 'iter' number of times.\n"
   ]
  },
  {
   "cell_type": "code",
   "execution_count": 50,
   "metadata": {},
   "outputs": [
    {
     "data": {
      "text/plain": [
       "0.071"
      ]
     },
     "execution_count": 50,
     "metadata": {},
     "output_type": "execute_result"
    }
   ],
   "source": [
    "ct = CoinTest((140, 110))\n",
    "pvalue = ct.PValue()\n",
    "pvalue"
   ]
  },
  {
   "cell_type": "markdown",
   "metadata": {},
   "source": [
    "## Permutation test\n",
    "\n",
    "To compute the p-value of an observed difference in means, we can assume that there is no difference between the groups and generate simulated results by shuffling the data."
   ]
  },
  {
   "cell_type": "code",
   "execution_count": 51,
   "metadata": {},
   "outputs": [],
   "source": [
    "class DiffMeansPermute(thinkstats2.HypothesisTest):\n",
    "\n",
    "    def TestStatistic(self, data):\n",
    "        group1, group2 = data\n",
    "        test_stat = abs(group1.mean() - group2.mean())\n",
    "        return test_stat\n",
    "\n",
    "    def MakeModel(self):\n",
    "        group1, group2 = self.data\n",
    "        self.n, self.m = len(group1), len(group2)\n",
    "        self.pool = np.hstack((group1, group2))\n",
    "\n",
    "    def RunModel(self):\n",
    "        np.random.shuffle(self.pool)\n",
    "        data = self.pool[:self.n], self.pool[self.n:]\n",
    "        return data"
   ]
  },
  {
   "cell_type": "markdown",
   "metadata": {},
   "source": [
    "Here's an example where we test the observed difference in pregnancy length for first babies and others."
   ]
  },
  {
   "cell_type": "code",
   "execution_count": 56,
   "metadata": {},
   "outputs": [
    {
     "data": {
      "text/plain": [
       "(array([39, 39, 38, ..., 39, 34, 39], dtype=int64),\n",
       " array([39, 39, 39, ..., 39, 39, 39], dtype=int64))"
      ]
     },
     "execution_count": 56,
     "metadata": {},
     "output_type": "execute_result"
    }
   ],
   "source": [
    "import first\n",
    "\n",
    "live, firsts, others = first.MakeFrames()\n",
    "data = firsts.prglngth.values, others.prglngth.values\n"
   ]
  },
  {
   "cell_type": "code",
   "execution_count": 59,
   "metadata": {},
   "outputs": [
    {
     "data": {
      "text/plain": [
       "0        39\n",
       "2        39\n",
       "5        38\n",
       "8        39\n",
       "10       39\n",
       "         ..\n",
       "13576    39\n",
       "13578    39\n",
       "13581    39\n",
       "13584    34\n",
       "13588    39\n",
       "Name: prglngth, Length: 4413, dtype: int64"
      ]
     },
     "execution_count": 59,
     "metadata": {},
     "output_type": "execute_result"
    }
   ],
   "source": [
    "firsts.prglngth"
   ]
  },
  {
   "cell_type": "markdown",
   "metadata": {},
   "source": [
    "The p-value is about 17%, which means it is plausible that the observed difference is just the result of random sampling, and might not be generally true in the population."
   ]
  },
  {
   "cell_type": "code",
   "execution_count": 53,
   "metadata": {},
   "outputs": [
    {
     "data": {
      "text/plain": [
       "0.1679"
      ]
     },
     "execution_count": 53,
     "metadata": {},
     "output_type": "execute_result"
    }
   ],
   "source": [
    "ht = DiffMeansPermute(data)\n",
    "pvalue = ht.PValue(10000)\n",
    "pvalue"
   ]
  },
  {
   "cell_type": "code",
   "execution_count": 58,
   "metadata": {},
   "outputs": [
    {
     "data": {
      "text/plain": [
       "9148"
      ]
     },
     "execution_count": 58,
     "metadata": {},
     "output_type": "execute_result"
    }
   ],
   "source": [
    "len(ht.pool)"
   ]
  },
  {
   "cell_type": "code",
   "execution_count": 22,
   "metadata": {},
   "outputs": [
    {
     "data": {
      "image/png": "[encoded data removed]",
      "text/plain": [
       "<Figure size 432x288 with 1 Axes>"
      ]
     },
     "metadata": {
      "needs_background": "light"
     },
     "output_type": "display_data"
    }
   ],
   "source": [
    "ht.PlotCdf()\n",
    "thinkplot.Config(xlabel='test statistic',\n",
    "                   ylabel='CDF')"
   ]
  },
  {
   "cell_type": "code",
   "execution_count": 25,
   "metadata": {},
   "outputs": [
    {
     "data": {
      "text/plain": [
       "0.0"
      ]
     },
     "execution_count": 25,
     "metadata": {},
     "output_type": "execute_result"
    }
   ],
   "source": [
    "import first\n",
    "\n",
    "live, firsts, others = first.MakeFrames()\n",
    "data = firsts.totalwgt_lb.values, others.totalwgt_lb.values\n",
    "ht = DiffMeansPermute(data)\n",
    "pvalue = ht.PValue()\n",
    "pvalue"
   ]
  },
  {
   "cell_type": "markdown",
   "metadata": {},
   "source": [
    "Here's the distrubution of the test statistic (the difference in means) over many simulated samples:"
   ]
  },
  {
   "cell_type": "code",
   "execution_count": 26,
   "metadata": {},
   "outputs": [
    {
     "data": {
      "image/png": "[encoded data removed]",
      "text/plain": [
       "<Figure size 432x288 with 1 Axes>"
      ]
     },
     "metadata": {
      "needs_background": "light"
     },
     "output_type": "display_data"
    }
   ],
   "source": [
    "ht.PlotCdf()\n",
    "thinkplot.Config(xlabel='test statistic',\n",
    "                   ylabel='CDF')"
   ]
  },
  {
   "cell_type": "markdown",
   "metadata": {},
   "source": [
    "Under the null hypothesis, we often see differences bigger than the observed difference."
   ]
  },
  {
   "cell_type": "code",
   "execution_count": 27,
   "metadata": {},
   "outputs": [],
   "source": [
    "class DiffMeansOneSided(DiffMeansPermute):\n",
    "\n",
    "    def TestStatistic(self, data):\n",
    "        group1, group2 = data\n",
    "        test_stat = group1.mean() - group2.mean()\n",
    "        return test_stat"
   ]
  },
  {
   "cell_type": "markdown",
   "metadata": {},
   "source": [
    "If the hypothesis under test is that first babies come late, the appropriate test statistic is the raw difference between first babies and others, rather than the absolute value of the difference.  In that case, the p-value is smaller, because we are testing a more specific hypothesis."
   ]
  },
  {
   "cell_type": "code",
   "execution_count": 30,
   "metadata": {},
   "outputs": [
    {
     "data": {
      "text/plain": [
       "0.07"
      ]
     },
     "execution_count": 30,
     "metadata": {},
     "output_type": "execute_result"
    }
   ],
   "source": [
    "import first\n",
    "\n",
    "live, firsts, others = first.MakeFrames()\n",
    "data = firsts.prglngth.values, others.prglngth.values"
   ]
  },
  {
   "cell_type": "code",
   "execution_count": 35,
   "metadata": {},
   "outputs": [
    {
     "data": {
      "text/plain": [
       "0.081"
      ]
     },
     "execution_count": 35,
     "metadata": {},
     "output_type": "execute_result"
    }
   ],
   "source": [
    "ht = DiffMeansOneSided(data)\n",
    "pvalue = ht.PValue()\n",
    "pvalue"
   ]
  },
  {
   "cell_type": "markdown",
   "metadata": {},
   "source": [
    "But in this example, the result is still not statistically significant."
   ]
  },
  {
   "cell_type": "markdown",
   "metadata": {},
   "source": [
    "## Difference in standard deviation\n",
    "\n",
    "In this framework, it is easy to use other test statistics.  For example, if we think the variance for first babies might be higher, we can run this test:"
   ]
  },
  {
   "cell_type": "code",
   "execution_count": 36,
   "metadata": {},
   "outputs": [],
   "source": [
    "class DiffStdPermute(DiffMeansPermute):\n",
    "\n",
    "    def TestStatistic(self, data):\n",
    "        group1, group2 = data\n",
    "        test_stat = group1.std() - group2.std()\n",
    "        return test_stat"
   ]
  },
  {
   "cell_type": "code",
   "execution_count": 42,
   "metadata": {},
   "outputs": [
    {
     "data": {
      "text/plain": [
       "0.097"
      ]
     },
     "execution_count": 42,
     "metadata": {},
     "output_type": "execute_result"
    }
   ],
   "source": [
    "ht = DiffStdPermute(data)\n",
    "pvalue = ht.PValue()\n",
    "pvalue"
   ]
  },
  {
   "cell_type": "markdown",
   "metadata": {},
   "source": [
    "But that's not statistically significant either."
   ]
  },
  {
   "cell_type": "markdown",
   "metadata": {},
   "source": [
    "## Testing correlation\n",
    "\n",
    "To check whether an observed correlation is statistically significant, we can run a permutation test with a different test statistic."
   ]
  },
  {
   "cell_type": "code",
   "execution_count": 43,
   "metadata": {},
   "outputs": [],
   "source": [
    "class CorrelationPermute(thinkstats2.HypothesisTest):\n",
    "\n",
    "    def TestStatistic(self, data):\n",
    "        xs, ys = data\n",
    "        test_stat = abs(thinkstats2.Corr(xs, ys))\n",
    "        return test_stat\n",
    "\n",
    "    def RunModel(self):\n",
    "        xs, ys = self.data\n",
    "        xs = np.random.permutation(xs)\n",
    "        return xs, ys"
   ]
  },
  {
   "cell_type": "markdown",
   "metadata": {},
   "source": [
    "Here's an example testing the correlation between birth weight and mother's age."
   ]
  },
  {
   "cell_type": "code",
   "execution_count": 45,
   "metadata": {},
   "outputs": [
    {
     "data": {
      "text/plain": [
       "0.0"
      ]
     },
     "execution_count": 45,
     "metadata": {},
     "output_type": "execute_result"
    }
   ],
   "source": [
    "cleaned = live.dropna(subset=['agepreg', 'totalwgt_lb'])\n",
    "data = cleaned.agepreg.values, cleaned.totalwgt_lb.values\n",
    "ht = CorrelationPermute(data)\n",
    "\n",
    "pvalue = ht.PValue()\n",
    "pvalue"
   ]
  },
  {
   "cell_type": "code",
   "execution_count": 46,
   "metadata": {},
   "outputs": [
    {
     "data": {
      "text/plain": [
       "[0.003118794778963687,\n",
       " 0.013817239134892141,\n",
       " 0.020625155207348155,\n",
       " 0.0031621026314079754,\n",
       " 0.016285497762599133,\n",
       " 0.0016729794758402329,\n",
       " 0.0038265116169512153,\n",
       " 0.003550264171042566,\n",
       " 0.011473079083510198,\n",
       " 0.008223076140731941,\n",
       " 0.0029721919331780738,\n",
       " 0.017193331135625985,\n",
       " 0.003030160070200901,\n",
       " 0.01573876110617803,\n",
       " 0.019209773586375573,\n",
       " 0.0006647002775423738,\n",
       " 0.012944792045872141,\n",
       " 0.004470450027517094,\n",
       " 0.012304541809722729,\n",
       " 0.0014300767752023237,\n",
       " 0.0021478726662094096,\n",
       " 0.001627477772317129,\n",
       " 0.01043320688352408,\n",
       " 0.015331147834601556,\n",
       " 0.00351685952651628,\n",
       " 0.0014329504739285484,\n",
       " 0.004894474329357688,\n",
       " 0.009577276930567273,\n",
       " 0.0012819520817323499,\n",
       " 0.011134317637619356,\n",
       " 0.0036273421898510823,\n",
       " 0.008739484222904177,\n",
       " 0.0009083634030740173,\n",
       " 0.006886292390458265,\n",
       " 0.002935161009284826,\n",
       " 0.028898692000866578,\n",
       " 0.010652022569864509,\n",
       " 0.02821669697701596,\n",
       " 0.0057026920413097305,\n",
       " 0.012320951842089797,\n",
       " 0.004592338066360488,\n",
       " 0.005803527919074493,\n",
       " 0.008154088689106363,\n",
       " 0.013418580965397478,\n",
       " 0.007108283406519424,\n",
       " 0.008562374961974291,\n",
       " 0.02339103175943976,\n",
       " 0.01605220647893159,\n",
       " 0.009678653177374512,\n",
       " 0.0034383589194665228,\n",
       " 0.00030146376065429327,\n",
       " 0.004266274945661446,\n",
       " 0.007818459360083543,\n",
       " 0.0009778892279480728,\n",
       " 0.004027528055489103,\n",
       " 0.011259249371831495,\n",
       " 0.004634842281058367,\n",
       " 0.010307197404917895,\n",
       " 0.0012354787396143072,\n",
       " 0.02180679259921296,\n",
       " 0.003337434620202572,\n",
       " 0.00838379989995052,\n",
       " 0.0003507852729457509,\n",
       " 0.00030050880846221656,\n",
       " 0.014281822378446742,\n",
       " 0.02107877518289056,\n",
       " 0.008674829424742772,\n",
       " 0.0032248209987353837,\n",
       " 0.014840408513666619,\n",
       " 0.0023902183114019107,\n",
       " 0.006239021487267011,\n",
       " 0.0019794916051541897,\n",
       " 0.020931907072607125,\n",
       " 0.007990942180807818,\n",
       " 0.002464121000489737,\n",
       " 0.0029727303064266035,\n",
       " 0.008774163134916904,\n",
       " 0.01670862116304414,\n",
       " 0.013314721072357797,\n",
       " 0.011950192651407971,\n",
       " 0.007520486751804877,\n",
       " 0.026657641257677497,\n",
       " 0.0013355895610850065,\n",
       " 0.0038254407189130747,\n",
       " 0.01611907181457475,\n",
       " 0.0031916717786600038,\n",
       " 0.013169277546109573,\n",
       " 0.01959722875191306,\n",
       " 0.00201679763359218,\n",
       " 0.0006515333184044785,\n",
       " 0.02087665247771482,\n",
       " 0.013146163168304073,\n",
       " 0.0006154318181505101,\n",
       " 0.005127243926179502,\n",
       " 0.012077412506657174,\n",
       " 0.011245376038596407,\n",
       " 0.006415032325812005,\n",
       " 0.00857477265406859,\n",
       " 0.008907484073615557,\n",
       " 0.0004121232669876412,\n",
       " 0.006626183863959883,\n",
       " 0.001801773233776359,\n",
       " 0.0005473285815176449,\n",
       " 0.0008558675589588061,\n",
       " 0.01739418841546517,\n",
       " 0.005270249014841955,\n",
       " 0.0008748251284018253,\n",
       " 0.011296094610576244,\n",
       " 0.013366987020574827,\n",
       " 0.00022837554725670947,\n",
       " 0.018881216979397247,\n",
       " 0.015178125587969127,\n",
       " 0.004901150152552367,\n",
       " 0.003256006263630077,\n",
       " 0.001529329908130178,\n",
       " 0.019141557397587675,\n",
       " 0.0008723129599256213,\n",
       " 0.02131944966174691,\n",
       " 0.007775406932090234,\n",
       " 0.011260017640978138,\n",
       " 0.011014578241208241,\n",
       " 0.008892965263435854,\n",
       " 0.01187310678834655,\n",
       " 0.010588951514436982,\n",
       " 0.0017392769180940531,\n",
       " 0.005071592432437521,\n",
       " 0.002773031348227848,\n",
       " 0.004001975240097782,\n",
       " 0.002993696041799924,\n",
       " 0.013996999045006075,\n",
       " 0.020252333799939456,\n",
       " 0.02546179353298342,\n",
       " 0.015386383747297007,\n",
       " 0.009862835160348808,\n",
       " 0.011168722442984376,\n",
       " 0.020933506503846934,\n",
       " 0.012309943365430986,\n",
       " 0.019782542530077992,\n",
       " 0.00828452024057293,\n",
       " 0.019677665789796742,\n",
       " 0.005229831547526706,\n",
       " 0.009830418840820355,\n",
       " 0.018543243482746843,\n",
       " 0.0030281175335678243,\n",
       " 0.007113112218276387,\n",
       " 0.00016383569704432423,\n",
       " 0.008792978232064095,\n",
       " 0.016710311011577102,\n",
       " 0.0017386225989994566,\n",
       " 0.002655014175258452,\n",
       " 0.007797627254856144,\n",
       " 0.005274580670409045,\n",
       " 0.012469951908402534,\n",
       " 0.0036439821181162286,\n",
       " 0.02164494688485062,\n",
       " 0.01078545945440917,\n",
       " 0.021506088764503873,\n",
       " 0.004113155435379812,\n",
       " 0.0049153693275315906,\n",
       " 0.0076826252550118174,\n",
       " 0.013375254430756376,\n",
       " 0.0004053590222936517,\n",
       " 0.007745077359944446,\n",
       " 0.005234517886987876,\n",
       " 0.0027085190223622413,\n",
       " 0.021777623344501604,\n",
       " 0.0048865616030702224,\n",
       " 0.012225102936883767,\n",
       " 0.011679932338896679,\n",
       " 0.007624125591096372,\n",
       " 0.0059882139045945755,\n",
       " 0.00042986061974073297,\n",
       " 0.008521728596657967,\n",
       " 0.025395662095784248,\n",
       " 0.01048137007417509,\n",
       " 0.010383177999238522,\n",
       " 0.0036660177536307105,\n",
       " 0.0012463093753775924,\n",
       " 0.002841920538307214,\n",
       " 0.0017127769947635706,\n",
       " 0.008093829437355555,\n",
       " 0.002053987716184101,\n",
       " 0.005675917013434526,\n",
       " 0.009988747375305806,\n",
       " 0.00046830728551922805,\n",
       " 0.005116316026767047,\n",
       " 0.010130167723337342,\n",
       " 0.010405220481108939,\n",
       " 0.004256309842693965,\n",
       " 0.0014617758826897449,\n",
       " 0.00047780275664357623,\n",
       " 0.003858245095141415,\n",
       " 0.026894141243871433,\n",
       " 0.0007002270380511061,\n",
       " 0.012420965399911284,\n",
       " 0.0031086341508008604,\n",
       " 0.009984679986339475,\n",
       " 0.00970402914976731,\n",
       " 0.004811686277490477,\n",
       " 0.0003821925894855764,\n",
       " 0.007876605338001918,\n",
       " 0.005621679265783827,\n",
       " 0.002208583865503463,\n",
       " 0.0048742621725221,\n",
       " 0.01786525395281306,\n",
       " 0.020435959725365386,\n",
       " 0.0048667453471873635,\n",
       " 0.016520681266350964,\n",
       " 0.0024301229340213453,\n",
       " 0.0027636144585558567,\n",
       " 0.0034564234317668993,\n",
       " 0.016607759756726615,\n",
       " 0.0028202484288367344,\n",
       " 0.00019179457511277643,\n",
       " 0.002065145511494667,\n",
       " 0.008276385462640298,\n",
       " 0.003973883729780462,\n",
       " 0.004103041013760568,\n",
       " 0.017245666823145486,\n",
       " 0.004255443312001166,\n",
       " 0.008386274704033053,\n",
       " 0.0020901344250846858,\n",
       " 0.010955166837953391,\n",
       " 0.005857995562623264,\n",
       " 0.005847491088510278,\n",
       " 0.002088090890554621,\n",
       " 0.02109332051952009,\n",
       " 0.013145828164503824,\n",
       " 0.017370625083807354,\n",
       " 0.0015170835304815996,\n",
       " 0.009279553898280482,\n",
       " 0.012351104571236966,\n",
       " 0.0031148511800963364,\n",
       " 0.008726601210460894,\n",
       " 0.016875721110256918,\n",
       " 0.004008287537248483,\n",
       " 0.007235017941419584,\n",
       " 0.011086765553210257,\n",
       " 0.010422030406016653,\n",
       " 0.008042431017728313,\n",
       " 0.0028400803732254593,\n",
       " 0.001860769055984659,\n",
       " 0.01061774155459848,\n",
       " 0.0045451386700514395,\n",
       " 0.018150095968450502,\n",
       " 0.00019522532928433153,\n",
       " 0.003996891003889889,\n",
       " 0.007842181850440099,\n",
       " 0.0042256452667479875,\n",
       " 0.010440792450264249,\n",
       " 0.00937662302017637,\n",
       " 0.004622508479807518,\n",
       " 0.004201515039597897,\n",
       " 0.003326902621742818,\n",
       " 0.0002790410663370258,\n",
       " 0.014969502904700288,\n",
       " 0.0067922649681371565,\n",
       " 0.007590897789568592,\n",
       " 0.008487393530595404,\n",
       " 0.003839773843944388,\n",
       " 0.0059337551031956775,\n",
       " 0.005046675253943922,\n",
       " 0.005063341708658866,\n",
       " 0.0010429929799618033,\n",
       " 0.0008949046529884766,\n",
       " 0.0024792509169114024,\n",
       " 0.005285528249915367,\n",
       " 0.016995867245564678,\n",
       " 0.01030423528469243,\n",
       " 0.020452396284182252,\n",
       " 0.009019011108538701,\n",
       " 0.014027947567646753,\n",
       " 0.016626963908470568,\n",
       " 0.001577483258734288,\n",
       " 0.011502603022115618,\n",
       " 0.0016544463295937318,\n",
       " 0.00086739772246332,\n",
       " 0.005189962293507017,\n",
       " 0.007080731267347617,\n",
       " 0.010263825661630182,\n",
       " 0.012302577854541986,\n",
       " 0.021010070680062658,\n",
       " 0.02880659316512647,\n",
       " 0.012318785515357724,\n",
       " 0.003411743050290026,\n",
       " 0.04549545262203288,\n",
       " 0.009288961945802542,\n",
       " 0.010390676142376386,\n",
       " 0.011239142322898042,\n",
       " 0.004675428747119167,\n",
       " 0.0007154443780750396,\n",
       " 0.005751004550612542,\n",
       " 0.001662491688130108,\n",
       " 0.004431304831894396,\n",
       " 0.005530843859586254,\n",
       " 0.0004964862194388244,\n",
       " 0.009847855560475864,\n",
       " 0.012742262601799819,\n",
       " 0.007165801591792937,\n",
       " 0.003713808576087878,\n",
       " 0.0037433590411430524,\n",
       " 0.020274174908155557,\n",
       " 0.0013310004852730324,\n",
       " 0.00045570722187358344,\n",
       " 0.006079092523644803,\n",
       " 0.004224460418657806,\n",
       " 0.011782333277198478,\n",
       " 0.0034801822886200732,\n",
       " 0.011751756124854757,\n",
       " 0.01935691580330677,\n",
       " 0.0015731339188673212,\n",
       " 0.0030435647694898467,\n",
       " 0.0035016245021924543,\n",
       " 0.004416946178310339,\n",
       " 0.018309686934581577,\n",
       " 0.025235125019611098,\n",
       " 0.00527714489388781,\n",
       " 0.004047733365968747,\n",
       " 0.011262865811151533,\n",
       " 0.01265332041358356,\n",
       " 0.005919625347612739,\n",
       " 0.018638411542408546,\n",
       " 0.028984541432402425,\n",
       " 0.005369254567571762,\n",
       " 0.01779984856980481,\n",
       " 0.0012135502077959199,\n",
       " 0.021489173731693977,\n",
       " 0.0042044683176734035,\n",
       " 0.006798632313981408,\n",
       " 0.003941944886348067,\n",
       " 0.012414148102317788,\n",
       " 0.014109613664370255,\n",
       " 0.005292415286811303,\n",
       " 0.011335308547604471,\n",
       " 0.0006315942703196308,\n",
       " 0.02070239138695838,\n",
       " 0.003693561050652542,\n",
       " 4.054960061560766e-05,\n",
       " 0.0074606352368476354,\n",
       " 0.00338976146557213,\n",
       " 0.0012555681042478702,\n",
       " 0.009366400496964092,\n",
       " 0.006708362805379164,\n",
       " 0.01958269225743347,\n",
       " 0.011861681732744205,\n",
       " 0.005098268200869528,\n",
       " 0.0010288465379759628,\n",
       " 0.011656128273396906,\n",
       " 0.011902426359606689,\n",
       " 0.005811406274659204,\n",
       " 0.0006184646755753821,\n",
       " 0.01889397620174155,\n",
       " 0.004486868902034135,\n",
       " 0.0016260807126287238,\n",
       " 0.026106906951592557,\n",
       " 0.0072210571845822144,\n",
       " 0.013471024754510036,\n",
       " 0.0009128895859395165,\n",
       " 0.0033743329118469025,\n",
       " 0.005176883755868323,\n",
       " 0.001784920096015957,\n",
       " 0.0048859249682754475,\n",
       " 0.002892966269834341,\n",
       " 0.0039060025447927656,\n",
       " 0.011233881243691644,\n",
       " 0.0033067602042096468,\n",
       " 0.015162818828548946,\n",
       " 0.007434567580966591,\n",
       " 0.005655252909055713,\n",
       " 0.005124255279504282,\n",
       " 0.005834085391324331,\n",
       " 0.006166612123619809,\n",
       " 0.0007025348391820284,\n",
       " 0.005368970620877147,\n",
       " 0.00013804314570801444,\n",
       " 0.014700896074225313,\n",
       " 0.0044332854734780245,\n",
       " 0.004039474797937115,\n",
       " 0.003035289515055385,\n",
       " 0.0024175936075751447,\n",
       " 0.018550900784583383,\n",
       " 0.006568621467936726,\n",
       " 0.0035330838737348855,\n",
       " 0.008223588985427651,\n",
       " 0.013258502683123532,\n",
       " 0.01720609820222325,\n",
       " 0.01534872503075897,\n",
       " 0.010665277950501699,\n",
       " 0.0086129442153024,\n",
       " 0.00634697429782576,\n",
       " 0.00011313580726132858,\n",
       " 0.003026960209824401,\n",
       " 0.005855846920191035,\n",
       " 0.024464459918397942,\n",
       " 0.0047139353121531885,\n",
       " 0.00266804850214747,\n",
       " 0.023037849764915387,\n",
       " 0.0008577410968463177,\n",
       " 0.004074852239794074,\n",
       " 0.016084011692218153,\n",
       " 0.005382535476761779,\n",
       " 0.009312410329511318,\n",
       " 0.020299817142943162,\n",
       " 0.015020938688721185,\n",
       " 0.00026774079873063196,\n",
       " 0.0018258238815771208,\n",
       " 0.005706776116678932,\n",
       " 0.013046353977827831,\n",
       " 0.010456840952381339,\n",
       " 0.004495614786208642,\n",
       " 0.006961407451983064,\n",
       " 0.014558450036802227,\n",
       " 0.009715507258269184,\n",
       " 0.010893007521865289,\n",
       " 0.012104886064376583,\n",
       " 0.006075219661976879,\n",
       " 0.006339582260487001,\n",
       " 0.0027179359120342293,\n",
       " 0.0015935494451512025,\n",
       " 0.01645315376736036,\n",
       " 0.003591575693397348,\n",
       " 0.025152070705349087,\n",
       " 0.00716880892066501,\n",
       " 0.02040018338886473,\n",
       " 0.00386302969614873,\n",
       " 0.0003550648735102997,\n",
       " 0.01461693201641783,\n",
       " 6.422887811945157e-05,\n",
       " 0.008952004298496775,\n",
       " 0.005959857129779465,\n",
       " 0.007659016714707341,\n",
       " 0.004826204089773214,\n",
       " 0.0026943185295798867,\n",
       " 0.0006358925530810352,\n",
       " 0.0112911606909171,\n",
       " 0.010701345080052915,\n",
       " 0.0020006950806785414,\n",
       " 0.001985213474053796,\n",
       " 0.002439875825390582,\n",
       " 0.008004028562699387,\n",
       " 0.019759702258920212,\n",
       " 0.0030352531485586883,\n",
       " 0.010355643544366584,\n",
       " 0.011882240729220938,\n",
       " 0.004763805037740104,\n",
       " 0.024557178702529853,\n",
       " 0.004826019402521734,\n",
       " 0.0005179549594609876,\n",
       " 0.012870995462583485,\n",
       " 0.0008326127046514722,\n",
       " 0.004224841629001619,\n",
       " 0.001701980729702994,\n",
       " 0.004251164709333608,\n",
       " 0.00667654775204571,\n",
       " 0.00587488307108637,\n",
       " 0.012735446302103272,\n",
       " 0.018202980867162447,\n",
       " 0.006965695894697536,\n",
       " 0.0013078242124180204,\n",
       " 0.010461298393841374,\n",
       " 0.0031057879764213796,\n",
       " 0.0006360065031330757,\n",
       " 0.009759761220755647,\n",
       " 0.00493545769426827,\n",
       " 0.005127986666773374,\n",
       " 0.005875335018629627,\n",
       " 0.016354148214630423,\n",
       " 0.0006966105987310722,\n",
       " 0.003029956700752584,\n",
       " 0.01529024404904038,\n",
       " 0.003970549241361115,\n",
       " 0.005291673544114432,\n",
       " 0.012245529301111554,\n",
       " 0.020526291129017094,\n",
       " 0.007569622578947852,\n",
       " 0.004363848070103166,\n",
       " 0.010076513557581802,\n",
       " 0.010355341913372082,\n",
       " 0.008553277387596656,\n",
       " 0.012343102425553285,\n",
       " 0.012425103526077017,\n",
       " 0.026340172706707295,\n",
       " 0.010319125465169072,\n",
       " 0.012259233635601037,\n",
       " 0.0043324063828606065,\n",
       " 0.0060670937261941595,\n",
       " 0.00048799775550912515,\n",
       " 0.007883590636444043,\n",
       " 0.007969624755231384,\n",
       " 0.014775762557655128,\n",
       " 0.002216054484294624,\n",
       " 0.0014008976804440203,\n",
       " 0.0018192011112819638,\n",
       " 0.010861096202779617,\n",
       " 0.020292133314656794,\n",
       " 0.007183106677096566,\n",
       " 0.011490621908964861,\n",
       " 0.01848992531868854,\n",
       " 0.0006039094988989693,\n",
       " 0.003610877108790494,\n",
       " 0.020787628714355286,\n",
       " 0.027947152878648705,\n",
       " 0.008101106526745255,\n",
       " 0.011235517041428056,\n",
       " 0.0022929114493549616,\n",
       " 0.013926571320839467,\n",
       " 0.008374664961179203,\n",
       " 0.013912388512357012,\n",
       " 0.0070207107536447945,\n",
       " 0.0004191891426761063,\n",
       " 0.01030969873545018,\n",
       " 0.012403432414503528,\n",
       " 0.010828812515500072,\n",
       " 0.017279736624710263,\n",
       " 0.004136322866084892,\n",
       " 0.021490137526035992,\n",
       " 0.0021338313321257207,\n",
       " 0.0025710147488512665,\n",
       " 0.011947902534576957,\n",
       " 0.0153126942677044,\n",
       " 0.0043214863277010905,\n",
       " 0.0038421003272721015,\n",
       " 0.008422316305031478,\n",
       " 0.02317027080011547,\n",
       " 0.013138240601969706,\n",
       " 0.011149359132541748,\n",
       " 0.0035964467201100247,\n",
       " 0.0014416324672596385,\n",
       " 0.018640967921634347,\n",
       " 0.00213484917726429,\n",
       " 0.012132711312299085,\n",
       " 0.006145762334092551,\n",
       " 0.028292006565839124,\n",
       " 0.014039936525050437,\n",
       " 0.003902368421172876,\n",
       " 0.0014066273935965604,\n",
       " 0.006085343923642986,\n",
       " 0.0022143833179584693,\n",
       " 0.006538574844588618,\n",
       " 0.024550821196732586,\n",
       " 0.004484623993849687,\n",
       " 0.008616948711322263,\n",
       " 0.009297705834183113,\n",
       " 0.013887648176861911,\n",
       " 0.0019041928542749644,\n",
       " 0.00793909181363733,\n",
       " 0.004346039980150717,\n",
       " 0.006199205286146805,\n",
       " 0.006935445901901122,\n",
       " 0.010655073111589261,\n",
       " 0.015192678768851556,\n",
       " 0.003597437040901834,\n",
       " 0.007567226356317682,\n",
       " 0.0075817992172939625,\n",
       " 0.014944772409252103,\n",
       " 0.001658318193364683,\n",
       " 0.009224352356287708,\n",
       " 0.005242306823176369,\n",
       " 0.02096155380341457,\n",
       " 0.0008148134568489151,\n",
       " 0.0016730148444399138,\n",
       " 0.010706438158410724,\n",
       " 0.006607376611065681,\n",
       " 0.01603202869279881,\n",
       " 0.009620559254458734,\n",
       " 0.007921470406730271,\n",
       " 0.013093234058842525,\n",
       " 0.0026686232418927413,\n",
       " 0.004715324527588681,\n",
       " 0.00614647854823662,\n",
       " 0.001184247322938684,\n",
       " 0.00781400291652048,\n",
       " 0.005541923073444477,\n",
       " 0.014838904350282133,\n",
       " 0.0009240483791470611,\n",
       " 0.009017471576554482,\n",
       " 0.023932702861849776,\n",
       " 0.0009197344078797954,\n",
       " 0.0038178806807257206,\n",
       " 0.01148780026524128,\n",
       " 0.015920582235121914,\n",
       " 0.003076377987868063,\n",
       " 0.017944772405001346,\n",
       " 0.01457777013439222,\n",
       " 0.004550169853359775,\n",
       " 0.00876250918131347,\n",
       " 0.006219806497579191,\n",
       " 0.003014439725528099,\n",
       " 0.007395724016338351,\n",
       " 0.010712555928263095,\n",
       " 0.0036045117587401748,\n",
       " 0.00383720077831571,\n",
       " 0.000995882005152006,\n",
       " 0.02550364243068983,\n",
       " 0.007815425504761725,\n",
       " 0.002782385344953355,\n",
       " 0.0007220416198173717,\n",
       " 0.002972535779128213,\n",
       " 0.006963891098215445,\n",
       " 0.0016601838869992034,\n",
       " 0.01444825916441503,\n",
       " 0.0037815492845736723,\n",
       " 0.01686796654477118,\n",
       " 0.0025965508778397323,\n",
       " 0.013048758044710947,\n",
       " 0.0039227053660044085,\n",
       " 0.007530240641071064,\n",
       " 0.003238525333224937,\n",
       " 0.0010882304168840379,\n",
       " 0.0158419676780201,\n",
       " 1.7993276152464443e-05,\n",
       " 0.014581942631260666,\n",
       " 0.018542793530997536,\n",
       " 0.005027974106848784,\n",
       " 0.01124040575244058,\n",
       " 0.0015023082979540039,\n",
       " 0.011229485697281055,\n",
       " 0.01766780874494859,\n",
       " 0.011717351319489769,\n",
       " 0.004039854012487003,\n",
       " 0.013452358976014636,\n",
       " 0.01669203428767851,\n",
       " 0.015147521909175645,\n",
       " 0.006310519111574741,\n",
       " 0.010982605027073093,\n",
       " 0.008663645102982407,\n",
       " 0.002604118760280032,\n",
       " 0.0063680196125484164,\n",
       " 0.006861675845062184,\n",
       " 0.0021388448311341814,\n",
       " 0.0026661032291636104,\n",
       " 0.014482345652382683,\n",
       " 0.011067056401023534,\n",
       " 0.001555113617316575,\n",
       " 0.003704939899711319,\n",
       " 0.0054936803034441335,\n",
       " 0.00480514208864767,\n",
       " 0.011708632959662001,\n",
       " 0.012579117091398228,\n",
       " 0.020924770459719293,\n",
       " 0.010040181163532766,\n",
       " 0.015718159894745686,\n",
       " 0.011990078591830614,\n",
       " 0.015671446816682644,\n",
       " 0.011300842845086931,\n",
       " 0.010034256923081837,\n",
       " 0.006035863252652894,\n",
       " 0.010696003423600178,\n",
       " 0.015651330925599283,\n",
       " 0.0004470143905986237,\n",
       " 0.003928753396554311,\n",
       " 0.0034133267930238987,\n",
       " 0.0058119800165074165,\n",
       " 0.01931720570798568,\n",
       " 0.01523600530349267,\n",
       " 0.0074815193970776675,\n",
       " 0.0025626766014703335,\n",
       " 0.00782284506644725,\n",
       " 0.012595120384868704,\n",
       " 0.014309604413516596,\n",
       " 0.001222099568878134,\n",
       " 0.007568950575553433,\n",
       " 0.0032174289613966316,\n",
       " 0.00635278359032763,\n",
       " 0.012414943895811173,\n",
       " 0.01021216982175808,\n",
       " 0.0036894494509366175,\n",
       " 0.0004081354573706708,\n",
       " 0.0027595735960393077,\n",
       " 0.005011430444335847,\n",
       " 0.008723257879891613,\n",
       " 0.025443472598335206,\n",
       " 0.011019953270466738,\n",
       " 0.0030882618373696017,\n",
       " 0.01642491293839126,\n",
       " 0.009485804889575,\n",
       " 0.0074919452897383,\n",
       " 0.016717667680316208,\n",
       " 0.014344735273072593,\n",
       " 0.001681750888567545,\n",
       " 0.006439013234310373,\n",
       " 0.007539922795240881,\n",
       " 0.0006536033793843008,\n",
       " 0.0007313779322430728,\n",
       " 0.00381849078907069,\n",
       " 0.0015351205184351718,\n",
       " 0.01624688409386897,\n",
       " 0.008271362123584943,\n",
       " 0.014506156564238449,\n",
       " 0.01390186735184111,\n",
       " 0.005895246542367687,\n",
       " 0.0028250585583968605,\n",
       " 0.0035696019529323636,\n",
       " 0.004039792117437504,\n",
       " 0.0010044677327309024,\n",
       " 0.010452403191015074,\n",
       " 0.0024198670380033236,\n",
       " 0.011601484784746556,\n",
       " 0.002834819294019028,\n",
       " 0.01203815435887937,\n",
       " 0.009744817987379436,\n",
       " 0.010066089660715122,\n",
       " 0.004955990164295092,\n",
       " 0.022868550118164813,\n",
       " 0.004260085440712714,\n",
       " 0.00127087286787414,\n",
       " 0.002272362292925185,\n",
       " 0.0016031166513719372,\n",
       " 0.006737364059241923,\n",
       " 0.015477812575436633,\n",
       " 0.005041616546288808,\n",
       " 0.0257877063371337,\n",
       " 0.014419946600349558,\n",
       " 0.013863960057208118,\n",
       " 0.009965668366099979,\n",
       " 0.014426983953794242,\n",
       " 0.008347670875349803,\n",
       " 0.009309325417083873,\n",
       " 0.018504683864813302,\n",
       " 0.005558768366951913,\n",
       " 2.2502772615108344e-05,\n",
       " 0.006223325673250015,\n",
       " 0.024160282116664645,\n",
       " 0.002895875337160252,\n",
       " 0.002294617984290832,\n",
       " 0.0027163963800499948,\n",
       " 0.0060223446033118855,\n",
       " 0.011144761214579855,\n",
       " 0.004824949502380588,\n",
       " 0.00826985011594745,\n",
       " 0.0009680911279322505,\n",
       " 0.031003168892080952,\n",
       " 5.7200366824671036e-05,\n",
       " 0.012060833475544498,\n",
       " 0.011069249254205361,\n",
       " 0.0004372438149295661,\n",
       " 0.01055914562493086,\n",
       " 0.022362398929907483,\n",
       " 0.02198207937936094,\n",
       " 0.021433848399602277,\n",
       " 0.003932351153677517,\n",
       " 0.008621971052480646,\n",
       " 0.010515844618842569,\n",
       " 0.006477740853092568,\n",
       " 0.009313923335045783,\n",
       " 0.01572963700535067,\n",
       " 0.015504781132713231,\n",
       " 0.010056407506545345,\n",
       " 0.014768495308312342,\n",
       " 0.016165111891346368,\n",
       " 0.023830300925651065,\n",
       " 0.007223895514708685,\n",
       " 0.012842365579017554,\n",
       " 0.002816950306914054,\n",
       " 0.009864125116341134,\n",
       " 0.001474924159630829,\n",
       " 0.005468817175747044,\n",
       " 0.015741503170552312,\n",
       " 0.0035952893963665787,\n",
       " 0.016603717896313087,\n",
       " 0.01381812235198783,\n",
       " 0.00729644535485773,\n",
       " 0.009177991966324791,\n",
       " 0.00779302933689425,\n",
       " 0.004092138642900901,\n",
       " 0.014464386247984445,\n",
       " 0.0008165553603844795,\n",
       " 0.004910762567419786,\n",
       " 0.001364811868695957,\n",
       " 0.004003619879984135,\n",
       " 0.007019075953805307,\n",
       " 0.012559274309065633,\n",
       " 0.012891209615213022,\n",
       " 0.013396095378133757,\n",
       " 0.02688720899832886,\n",
       " 0.0008327807055000746,\n",
       " 0.0058920113133914985,\n",
       " 0.018605280006632988,\n",
       " 0.011726857628558008,\n",
       " 0.008457278165841851,\n",
       " 0.003239286756015594,\n",
       " 0.012144719949796594,\n",
       " 0.01532787623912866,\n",
       " 0.0034436013164761106,\n",
       " 0.004053913030870563,\n",
       " 0.01260419243069352,\n",
       " 0.004960728558758852,\n",
       " 0.010392223518613571,\n",
       " 0.010003035291690405,\n",
       " 0.009107776453756442,\n",
       " 0.00018892087638655065,\n",
       " 0.009233273087666844,\n",
       " 0.021255803866574073,\n",
       " 0.010178066647387563,\n",
       " 0.018663487879600815,\n",
       " 0.0019908272413603095,\n",
       " 0.008576389769608225,\n",
       " 0.0018905130504412865,\n",
       " 0.003984696681243924,\n",
       " 0.0024862715839532373,\n",
       " 0.015368921499088611,\n",
       " 0.0031665689150179328,\n",
       " 0.0008878220908971783,\n",
       " 0.004642411161395692,\n",
       " 0.0013240230310838483,\n",
       " 0.009917285119597784,\n",
       " 0.013746943045077432,\n",
       " 0.00321893212688418,\n",
       " 0.0004405684633020327,\n",
       " 0.0016477262956494103,\n",
       " 0.0075249088246652236,\n",
       " 0.007007731475449304,\n",
       " 0.011382286890165282,\n",
       " 0.017625463688949388,\n",
       " 0.006600690947824065,\n",
       " 0.008130241410753941,\n",
       " 0.004416671073765607,\n",
       " 0.013634003261959996,\n",
       " 0.015539405993929426,\n",
       " 0.0007559866333861805,\n",
       " 0.0014072453461944664,\n",
       " 0.00464809666379856,\n",
       " 0.014340773989905397,\n",
       " 0.02609459967679154,\n",
       " 0.004676542858009925,\n",
       " 0.013031676008949443,\n",
       " 0.005158447873271047,\n",
       " 0.011399449503173122,\n",
       " 0.002841867485407591,\n",
       " 0.018717549782150004,\n",
       " 0.017774640598260675,\n",
       " 0.001829034579897505,\n",
       " 0.0034908095549350854,\n",
       " 0.0031911844625170317,\n",
       " 0.002194426585573782,\n",
       " 7.09764364105464e-05,\n",
       " 0.017561596840028417,\n",
       " 0.002106775351246831,\n",
       " 0.01554607397287119,\n",
       " 0.0024814437700932403,\n",
       " 0.007274454927989909,\n",
       " 0.0068301624227232426,\n",
       " 0.007310283319493108,\n",
       " 0.011076993979644218,\n",
       " 0.0022217940374940504,\n",
       " 0.002397629030937568,\n",
       " 0.007080307842048149,\n",
       " 0.01576675635074315,\n",
       " 0.009089827887302096,\n",
       " 0.008170748297465363,\n",
       " 0.004456655275734425,\n",
       " 0.004054471084212927,\n",
       " 0.010907711019296504,\n",
       " 0.0029293241924361743,\n",
       " 0.0038696691528467574,\n",
       " 0.005364886545507978,\n",
       " 0.0009312822556841138,\n",
       " 0.007824276496838428,\n",
       " 0.01738891949200582,\n",
       " 0.005058771315043731,\n",
       " 0.007366226604182721,\n",
       " 0.0074630481458807,\n",
       " 0.008287641519497058,\n",
       " 0.0043053926169373796,\n",
       " 0.004949880238695717,\n",
       " 0.0022461099497926764,\n",
       " 0.005855899973090641,\n",
       " 0.019719647319752003,\n",
       " 0.0032230869394527756,\n",
       " 0.0016437021195357619,\n",
       " 0.012297175300936724,\n",
       " 0.02782216024728417,\n",
       " 0.0067455961008237525,\n",
       " 0.021069879980064227,\n",
       " 0.004299565640135682,\n",
       " 0.004117940036387169,\n",
       " 0.004296719465756209,\n",
       " 0.004037644472902304,\n",
       " 0.015886522273604094,\n",
       " 0.014109541929273868,\n",
       " 0.007118045140038506,\n",
       " 0.006973459302333236,\n",
       " 0.010797919041552957,\n",
       " 0.02166202892061212,\n",
       " 0.011829762569405579,\n",
       " 0.00505953173993739,\n",
       " 0.0034709147175998505,\n",
       " 0.015210203910006393,\n",
       " 0.0018274950479132749,\n",
       " 0.00028765332036569997,\n",
       " 0.0028367910934526683,\n",
       " 0.01516466683788362,\n",
       " 0.0024936714655449297,\n",
       " 0.0032439278868301616,\n",
       " 0.000688061237648892,\n",
       " 0.012189982915271633,\n",
       " 0.00982885477818028,\n",
       " 0.008127404078524407,\n",
       " 0.006149714775109779,\n",
       " 7.213475805097705e-05,\n",
       " 0.010472597663550784,\n",
       " 0.015450117963969093,\n",
       " 0.009308210308296115,\n",
       " 0.016217165627965147,\n",
       " 0.012375650379433664,\n",
       " 0.015298952568821246,\n",
       " 0.00610927962349473,\n",
       " 0.004407068498945146,\n",
       " 0.009069791575568061,\n",
       " 0.008067745095071613,\n",
       " 0.008936602271221353,\n",
       " 0.01043163198294012,\n",
       " 0.017752729750742154,\n",
       " 0.002306138307748396,\n",
       " 0.008353647170803304,\n",
       " 0.01566716621822112,\n",
       " 0.006121341313891813,\n",
       " 0.005424014002068159,\n",
       " 0.0131193360854263,\n",
       " 0.006900635355536448,\n",
       " 0.013599836196746063,\n",
       " 0.003380601996144975,\n",
       " 0.0008795203100129183,\n",
       " 0.0006224780137451036,\n",
       " 0.00037723314127363595,\n",
       " 0.005031288915174381,\n",
       " 0.0008890865183366819,\n",
       " 0.013895659164695567,\n",
       " 0.012657042958702755,\n",
       " 0.03278983923483389,\n",
       " 0.021804307955083528,\n",
       " 0.010308549255959722,\n",
       " 0.012328097297127591,\n",
       " 0.0026988977653449337,\n",
       " 0.005087118249811898,\n",
       " 0.006959240127354007,\n",
       " 0.011596655972989579,\n",
       " 0.0032814628132692243,\n",
       " 0.0020399817507000956,\n",
       " 0.0029469289129403385,\n",
       " 0.006877414871931818,\n",
       " 0.00030986380308471555,\n",
       " 0.0008961966047747881,\n",
       " 0.008128773613866033,\n",
       " 0.004154219377536659,\n",
       " 0.0004567771220147438,\n",
       " 0.0033674979299535284,\n",
       " 0.020166530574947217,\n",
       " 0.0018135244510289995,\n",
       " 0.008799379948611066,\n",
       " 0.0072149118903831215,\n",
       " 0.01742930943497424,\n",
       " 0.011563887963257975,\n",
       " 0.008032068018014123,\n",
       " 0.008134999485311486,\n",
       " 0.014143195151895077,\n",
       " 0.006230974132936656,\n",
       " 0.00932619623914412,\n",
       " 0.0004956550573457242,\n",
       " 0.009656140065763996,\n",
       " 0.0009074605058845017,\n",
       " 0.006857820667694139,\n",
       " 0.018960522222090256,\n",
       " 0.004477558118161261,\n",
       " 0.005403084633191556,\n",
       " 0.0028653610777630203,\n",
       " 0.0028115477533087953,\n",
       " 0.009315063972386304,\n",
       " 0.008650903564937945,\n",
       " 0.012882314412386698,\n",
       " 0.0021511629438791167,\n",
       " 0.0037043297913663623,\n",
       " 0.008236056416824388,\n",
       " 0.0018489647858324382,\n",
       " 0.009867486131210306,\n",
       " 0.010377925762182,\n",
       " 0.012872101729221312,\n",
       " 0.00393939834716914,\n",
       " 0.017442643397063775,\n",
       " 0.00898930048688785,\n",
       " 0.009002828976275743,\n",
       " 0.0033264958828461946,\n",
       " 0.0164347454091098,\n",
       " 0.009575031024485871,\n",
       " 0.008117536239206162,\n",
       " 0.007870167254958269,\n",
       " 0.008466359053816637,\n",
       " 0.011879472138396817,\n",
       " 0.007134076955752732,\n",
       " 0.010718798486111328,\n",
       " 0.005866731606750873,\n",
       " 0.01249150906992391,\n",
       " 0.02153897371797845,\n",
       " 0.004045415724790972,\n",
       " 0.013252146175223141,\n",
       " 0.0002666001613900977,\n",
       " 0.010694085674963084,\n",
       " 0.009530777061999441,\n",
       " 0.009180114082307194,\n",
       " 0.0030551745123436847]"
      ]
     },
     "execution_count": 46,
     "metadata": {},
     "output_type": "execute_result"
    }
   ],
   "source": [
    "ht.test_stats"
   ]
  },
  {
   "cell_type": "markdown",
   "metadata": {
    "collapsed": true
   },
   "source": [
    "The reported p-value is 0, which means that in 1000 trials we didn't see a correlation, under the null hypothesis, that exceeded the observed correlation.  That means that the p-value is probably smaller than $1/1000$, but it is not actually 0.\n",
    "\n",
    "To get a sense of how unexpected the observed value is under the null hypothesis, we can compare the actual correlation to the largest value we saw in the simulations."
   ]
  },
  {
   "cell_type": "code",
   "execution_count": 15,
   "metadata": {},
   "outputs": [
    {
     "data": {
      "text/plain": [
       "(0.06883397035410908, 0.03425493926694762)"
      ]
     },
     "execution_count": 15,
     "metadata": {},
     "output_type": "execute_result"
    }
   ],
   "source": [
    "ht.actual, ht.MaxTestStat()"
   ]
  },
  {
   "cell_type": "markdown",
   "metadata": {},
   "source": [
    "## Testing proportions\n",
    "\n",
    "Here's an example that tests whether the outcome of a rolling a six-sided die is suspicious, where the test statistic is the total absolute difference between the observed outcomes and the expected long-term averages."
   ]
  },
  {
   "cell_type": "code",
   "execution_count": 16,
   "metadata": {},
   "outputs": [],
   "source": [
    "class DiceTest(thinkstats2.HypothesisTest):\n",
    "\n",
    "    def TestStatistic(self, data):\n",
    "        observed = data\n",
    "        n = sum(observed)\n",
    "        expected = np.ones(6) * n / 6\n",
    "        test_stat = sum(abs(observed - expected))\n",
    "        return test_stat\n",
    "\n",
    "    def RunModel(self):\n",
    "        n = sum(self.data)\n",
    "        values = [1, 2, 3, 4, 5, 6]\n",
    "        rolls = np.random.choice(values, n, replace=True)\n",
    "        hist = thinkstats2.Hist(rolls)\n",
    "        freqs = hist.Freqs(values)\n",
    "        return freqs"
   ]
  },
  {
   "cell_type": "markdown",
   "metadata": {},
   "source": [
    "Here's an example using the data from the book:"
   ]
  },
  {
   "cell_type": "code",
   "execution_count": 17,
   "metadata": {},
   "outputs": [
    {
     "data": {
      "text/plain": [
       "0.1293"
      ]
     },
     "execution_count": 17,
     "metadata": {},
     "output_type": "execute_result"
    }
   ],
   "source": [
    "data = [8, 9, 19, 5, 8, 11]\n",
    "dt = DiceTest(data)\n",
    "pvalue = dt.PValue(iters=10000)\n",
    "pvalue"
   ]
  },
  {
   "cell_type": "markdown",
   "metadata": {},
   "source": [
    "The observed deviance from the expected values is not statistically significant.\n",
    "\n",
    "By convention, it is more common to test data like this using the chi-squared statistic:"
   ]
  },
  {
   "cell_type": "code",
   "execution_count": 18,
   "metadata": {},
   "outputs": [],
   "source": [
    "class DiceChiTest(DiceTest):\n",
    "\n",
    "    def TestStatistic(self, data):\n",
    "        observed = data\n",
    "        n = sum(observed)\n",
    "        expected = np.ones(6) * n / 6\n",
    "        test_stat = sum((observed - expected)**2 / expected)\n",
    "        return test_stat"
   ]
  },
  {
   "cell_type": "markdown",
   "metadata": {},
   "source": [
    "Using this test, we get a smaller p-value:"
   ]
  },
  {
   "cell_type": "code",
   "execution_count": 19,
   "metadata": {},
   "outputs": [
    {
     "data": {
      "text/plain": [
       "0.0406"
      ]
     },
     "execution_count": 19,
     "metadata": {},
     "output_type": "execute_result"
    }
   ],
   "source": [
    "dt = DiceChiTest(data)\n",
    "pvalue = dt.PValue(iters=10000)\n",
    "pvalue"
   ]
  },
  {
   "cell_type": "markdown",
   "metadata": {},
   "source": [
    "Taking this result at face value, we might consider the data statistically significant, but considering the results of both tests, I would not draw any strong conclusions."
   ]
  },
  {
   "cell_type": "markdown",
   "metadata": {},
   "source": [
    "## Chi-square test of pregnancy length"
   ]
  },
  {
   "cell_type": "code",
   "execution_count": 20,
   "metadata": {},
   "outputs": [],
   "source": [
    "class PregLengthTest(thinkstats2.HypothesisTest):\n",
    "\n",
    "    def MakeModel(self):\n",
    "        firsts, others = self.data\n",
    "        self.n = len(firsts)\n",
    "        self.pool = np.hstack((firsts, others))\n",
    "\n",
    "        pmf = thinkstats2.Pmf(self.pool)\n",
    "        self.values = range(35, 44)\n",
    "        self.expected_probs = np.array(pmf.Probs(self.values))\n",
    "\n",
    "    def RunModel(self):\n",
    "        np.random.shuffle(self.pool)\n",
    "        data = self.pool[:self.n], self.pool[self.n:]\n",
    "        return data\n",
    "    \n",
    "    def TestStatistic(self, data):\n",
    "        firsts, others = data\n",
    "        stat = self.ChiSquared(firsts) + self.ChiSquared(others)\n",
    "        return stat\n",
    "\n",
    "    def ChiSquared(self, lengths):\n",
    "        hist = thinkstats2.Hist(lengths)\n",
    "        observed = np.array(hist.Freqs(self.values))\n",
    "        expected = self.expected_probs * len(lengths)\n",
    "        stat = sum((observed - expected)**2 / expected)\n",
    "        return stat"
   ]
  },
  {
   "cell_type": "markdown",
   "metadata": {},
   "source": [
    "If we specifically test the deviations of first babies and others from the expected number of births in each week of pregnancy, the results are statistically significant with a very small p-value.  But at this point we have run so many tests, we should not be surprised to find at least one that seems significant."
   ]
  },
  {
   "cell_type": "code",
   "execution_count": 21,
   "metadata": {},
   "outputs": [
    {
     "name": "stdout",
     "output_type": "stream",
     "text": [
      "p-value = 0.0\n",
      "actual = 101.50141482893264\n",
      "ts max = 26.19578807986594\n"
     ]
    }
   ],
   "source": [
    "data = firsts.prglngth.values, others.prglngth.values\n",
    "ht = PregLengthTest(data)\n",
    "p_value = ht.PValue()\n",
    "print('p-value =', p_value)\n",
    "print('actual =', ht.actual)\n",
    "print('ts max =', ht.MaxTestStat())"
   ]
  },
  {
   "cell_type": "markdown",
   "metadata": {},
   "source": [
    "## Power\n",
    "\n",
    "Here's the function that estimates the probability of a non-significant p-value even is there really is a difference between the groups."
   ]
  },
  {
   "cell_type": "code",
   "execution_count": 22,
   "metadata": {},
   "outputs": [],
   "source": [
    "def FalseNegRate(data, num_runs=1000):\n",
    "    \"\"\"Computes the chance of a false negative based on resampling.\n",
    "\n",
    "    data: pair of sequences\n",
    "    num_runs: how many experiments to simulate\n",
    "\n",
    "    returns: float false negative rate\n",
    "    \"\"\"\n",
    "    group1, group2 = data\n",
    "    count = 0\n",
    "\n",
    "    for i in range(num_runs):\n",
    "        sample1 = thinkstats2.Resample(group1)\n",
    "        sample2 = thinkstats2.Resample(group2)\n",
    "        ht = DiffMeansPermute((sample1, sample2))\n",
    "        p_value = ht.PValue(iters=101)\n",
    "        if p_value > 0.05:\n",
    "            count += 1\n",
    "\n",
    "    return count / num_runs"
   ]
  },
  {
   "cell_type": "code",
   "execution_count": 23,
   "metadata": {},
   "outputs": [
    {
     "data": {
      "text/plain": [
       "0.687"
      ]
     },
     "execution_count": 23,
     "metadata": {},
     "output_type": "execute_result"
    }
   ],
   "source": [
    "neg_rate = FalseNegRate(data)\n",
    "neg_rate"
   ]
  },
  {
   "cell_type": "markdown",
   "metadata": {},
   "source": [
    "In this example, the false negative rate is 70%, which means that the power of the test (probability of statistical significance if the actual difference is 0.078 weeks) is only 30%."
   ]
  },
  {
   "cell_type": "markdown",
   "metadata": {},
   "source": [
    "## Exercises"
   ]
  },
  {
   "cell_type": "markdown",
   "metadata": {},
   "source": [
    "**Exercise:** As sample size increases, the power of a hypothesis test increases, which means it is more likely to be positive if the effect is real. Conversely, as sample size decreases, the test is less likely to be positive even if the effect is real.\n",
    "\n",
    "To investigate this behavior, run the tests in this chapter with different subsets of the NSFG data. You can use `thinkstats2.SampleRows` to select a random subset of the rows in a DataFrame.\n",
    "\n",
    "What happens to the p-values of these tests as sample size decreases? What is the smallest sample size that yields a positive test?"
   ]
  },
  {
   "cell_type": "code",
   "execution_count": 24,
   "metadata": {},
   "outputs": [],
   "source": [
    "# Solution goes here"
   ]
  },
  {
   "cell_type": "code",
   "execution_count": 25,
   "metadata": {},
   "outputs": [],
   "source": [
    "# Solution goes here"
   ]
  },
  {
   "cell_type": "code",
   "execution_count": 26,
   "metadata": {},
   "outputs": [],
   "source": [
    "# Solution goes here"
   ]
  },
  {
   "cell_type": "markdown",
   "metadata": {},
   "source": [
    "**Exercise:** In Section 9.3, we simulated the null hypothesis by permutation; that is, we treated the observed values as if they represented the entire population, and randomly assigned the members of the population to the two groups.\n",
    "\n",
    "An alternative is to use the sample to estimate the distribution for the population, then draw a random sample from that distribution. This process is called resampling. There are several ways to implement resampling, but one of the simplest is to draw a sample with replacement from the observed values, as in Section 9.10.\n",
    "\n",
    "Write a class named `DiffMeansResample` that inherits from `DiffMeansPermute` and overrides `RunModel` to implement resampling, rather than permutation.\n",
    "\n",
    "Use this model to test the differences in pregnancy length and birth weight. How much does the model affect the results?"
   ]
  },
  {
   "cell_type": "code",
   "execution_count": 27,
   "metadata": {},
   "outputs": [],
   "source": [
    "# Solution goes here"
   ]
  },
  {
   "cell_type": "code",
   "execution_count": 28,
   "metadata": {},
   "outputs": [],
   "source": [
    "# Solution goes here"
   ]
  },
  {
   "cell_type": "code",
   "execution_count": 29,
   "metadata": {},
   "outputs": [],
   "source": [
    "# Solution goes here"
   ]
  },
  {
   "cell_type": "code",
   "execution_count": 30,
   "metadata": {},
   "outputs": [],
   "source": [
    "# Solution goes here"
   ]
  }
 ],
 "metadata": {
  "kernelspec": {
   "display_name": "Python 3",
   "language": "python",
   "name": "python3"
  },
  "language_info": {
   "codemirror_mode": {
    "name": "ipython",
    "version": 3
   },
   "file_extension": ".py",
   "mimetype": "text/x-python",
   "name": "python",
   "nbconvert_exporter": "python",
   "pygments_lexer": "ipython3",
   "version": "3.7.4"
  }
 },
 "nbformat": 4,
 "nbformat_minor": 1
}
