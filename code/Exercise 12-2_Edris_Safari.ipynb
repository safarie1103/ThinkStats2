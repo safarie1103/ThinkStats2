{
 "cells": [
  {
   "cell_type": "markdown",
   "metadata": {
    "collapsed": true,
    "pycharm": {
     "name": "#%% md\n"
    }
   },
   "source": [
    "## File : Exercise 12-2_Edris_Safari.ipynb\n",
    "## Name:Edris Safari\n",
    "## Date:2/09/2019\n",
    "## Course: DSC530 - Data Exploration and Analysis\n",
    "## Desc: Week8 exercise 12-2 assignment\n"
   ]
  },
  {
   "cell_type": "markdown",
   "metadata": {},
   "source": [
    "Write a definition for a class named `SerialCorrelationTest` that extends `HypothesisTest` from Section 9.2. It should take a series and a lag as data, compute the serial correlation of the series with the given lag, and then compute the p-value of the observed correlation.\n",
    "\n",
    "Use this class to test whether the serial correlation in raw price data is statistically significant. Also test the residuals of the linear model and (if you did the previous exercise), the quadratic model."
   ]
  },
  {
   "cell_type": "code",
   "execution_count": 22,
   "metadata": {
    "pycharm": {
     "is_executing": false,
     "name": "#%%\n"
    }
   },
   "outputs": [],
   "source": [
    "from __future__ import print_function, division\n",
    "\n",
    "%matplotlib inline\n",
    "\n",
    "import warnings\n",
    "warnings.filterwarnings('ignore', category=FutureWarning)\n",
    "\n",
    "import numpy as np\n",
    "import pandas as pd\n",
    "\n",
    "import statsmodels.formula.api as smf\n",
    "\n",
    "import random\n",
    "\n",
    "import thinkstats2\n",
    "import thinkplot\n",
    "import timeseries\n"
   ]
  },
  {
   "cell_type": "markdown",
   "metadata": {},
   "source": [
    "## Serial correlation\n",
    "\n",
    "The following function computes serial correlation with the given lag."
   ]
  },
  {
   "cell_type": "code",
   "execution_count": 19,
   "metadata": {
    "pycharm": {
     "is_executing": false,
     "name": "#%%\n"
    }
   },
   "outputs": [],
   "source": [
    "def SerialCorr(series, lag=1):\n",
    "    xs = series[lag:]\n",
    "    ys = series.shift(lag)[lag:]\n",
    "    corr = thinkstats2.Corr(xs, ys)\n",
    "    return corr"
   ]
  },
  {
   "cell_type": "code",
   "execution_count": 20,
   "metadata": {
    "pycharm": {
     "is_executing": false,
     "name": "#%%\n"
    }
   },
   "outputs": [],
   "source": [
    "class SerialCorrelationTest(thinkstats2.HypothesisTest):\n",
    "    \"\"\"Tests serial correlations by permutation.\"\"\"\n",
    "\n",
    "    def TestStatistic(self, data):\n",
    "        \"\"\"Computes the test statistic.\n",
    "        The test statistic runs correlation between each value and it's lagged value\n",
    "\n",
    "        data: tuple of xs and ys\n",
    "        \"\"\"\n",
    "        series, lag = data\n",
    "        test_stat = abs(SerialCorr(series, lag))\n",
    "        return test_stat\n",
    "\n",
    "    def RunModel(self):\n",
    "        \"\"\"Run the model of the null hypothesis.\n",
    "        It is run 1000 times to compute the p-value\n",
    "\n",
    "        returns: simulated data\n",
    "        \"\"\"\n",
    "        series, lag = self.data\n",
    "        permutation = series.reindex(np.random.permutation(series.index))\n",
    "        return permutation, lag\n",
    "    "
   ]
  },
  {
   "cell_type": "code",
   "execution_count": 23,
   "metadata": {
    "pycharm": {
     "is_executing": false,
     "name": "#%%\n"
    }
   },
   "outputs": [],
   "source": [
    "def RunQuadraticModel(daily):\n",
    "    \"\"\"Runs a Quadratic model of price per gram versus years and years squared.\n",
    "\n",
    "    daily: DataFrame of daily prices\n",
    "\n",
    "    returns: model, results\n",
    "    \"\"\"\n",
    "    # Create a new column for the model\n",
    "    daily['years2'] = daily.years**2\n",
    "    model = smf.ols('ppg ~ years + years2', data=daily)\n",
    "    results = model.fit()\n",
    "    return model, results"
   ]
  },
  {
   "cell_type": "markdown",
   "metadata": {},
   "source": [
    "## Time series analysis\n",
    "\n",
    "Load the data from \"Price of Weed\"."
   ]
  },
  {
   "cell_type": "code",
   "execution_count": 24,
   "metadata": {
    "pycharm": {
     "is_executing": false,
     "name": "#%%\n"
    }
   },
   "outputs": [
    {
     "data": {
      "text/html": [
       "<div>\n",
       "<style scoped>\n",
       "    .dataframe tbody tr th:only-of-type {\n",
       "        vertical-align: middle;\n",
       "    }\n",
       "\n",
       "    .dataframe tbody tr th {\n",
       "        vertical-align: top;\n",
       "    }\n",
       "\n",
       "    .dataframe thead th {\n",
       "        text-align: right;\n",
       "    }\n",
       "</style>\n",
       "<table border=\"1\" class=\"dataframe\">\n",
       "  <thead>\n",
       "    <tr style=\"text-align: right;\">\n",
       "      <th></th>\n",
       "      <th>city</th>\n",
       "      <th>state</th>\n",
       "      <th>price</th>\n",
       "      <th>amount</th>\n",
       "      <th>quality</th>\n",
       "      <th>date</th>\n",
       "      <th>ppg</th>\n",
       "      <th>state.name</th>\n",
       "      <th>lat</th>\n",
       "      <th>lon</th>\n",
       "    </tr>\n",
       "  </thead>\n",
       "  <tbody>\n",
       "    <tr>\n",
       "      <th>0</th>\n",
       "      <td>Annandale</td>\n",
       "      <td>VA</td>\n",
       "      <td>100</td>\n",
       "      <td>7.075</td>\n",
       "      <td>high</td>\n",
       "      <td>2010-09-02</td>\n",
       "      <td>14.13</td>\n",
       "      <td>Virginia</td>\n",
       "      <td>38.830345</td>\n",
       "      <td>-77.213870</td>\n",
       "    </tr>\n",
       "    <tr>\n",
       "      <th>1</th>\n",
       "      <td>Auburn</td>\n",
       "      <td>AL</td>\n",
       "      <td>60</td>\n",
       "      <td>28.300</td>\n",
       "      <td>high</td>\n",
       "      <td>2010-09-02</td>\n",
       "      <td>2.12</td>\n",
       "      <td>Alabama</td>\n",
       "      <td>32.578185</td>\n",
       "      <td>-85.472820</td>\n",
       "    </tr>\n",
       "    <tr>\n",
       "      <th>2</th>\n",
       "      <td>Austin</td>\n",
       "      <td>TX</td>\n",
       "      <td>60</td>\n",
       "      <td>28.300</td>\n",
       "      <td>medium</td>\n",
       "      <td>2010-09-02</td>\n",
       "      <td>2.12</td>\n",
       "      <td>Texas</td>\n",
       "      <td>30.326374</td>\n",
       "      <td>-97.771258</td>\n",
       "    </tr>\n",
       "    <tr>\n",
       "      <th>3</th>\n",
       "      <td>Belleville</td>\n",
       "      <td>IL</td>\n",
       "      <td>400</td>\n",
       "      <td>28.300</td>\n",
       "      <td>high</td>\n",
       "      <td>2010-09-02</td>\n",
       "      <td>14.13</td>\n",
       "      <td>Illinois</td>\n",
       "      <td>38.532311</td>\n",
       "      <td>-89.983521</td>\n",
       "    </tr>\n",
       "    <tr>\n",
       "      <th>4</th>\n",
       "      <td>Boone</td>\n",
       "      <td>NC</td>\n",
       "      <td>55</td>\n",
       "      <td>3.540</td>\n",
       "      <td>high</td>\n",
       "      <td>2010-09-02</td>\n",
       "      <td>15.54</td>\n",
       "      <td>North Carolina</td>\n",
       "      <td>36.217052</td>\n",
       "      <td>-81.687983</td>\n",
       "    </tr>\n",
       "  </tbody>\n",
       "</table>\n",
       "</div>"
      ],
      "text/plain": [
       "         city state  price  amount quality       date    ppg      state.name  \\\n",
       "0   Annandale    VA    100   7.075    high 2010-09-02  14.13        Virginia   \n",
       "1      Auburn    AL     60  28.300    high 2010-09-02   2.12         Alabama   \n",
       "2      Austin    TX     60  28.300  medium 2010-09-02   2.12           Texas   \n",
       "3  Belleville    IL    400  28.300    high 2010-09-02  14.13        Illinois   \n",
       "4       Boone    NC     55   3.540    high 2010-09-02  15.54  North Carolina   \n",
       "\n",
       "         lat        lon  \n",
       "0  38.830345 -77.213870  \n",
       "1  32.578185 -85.472820  \n",
       "2  30.326374 -97.771258  \n",
       "3  38.532311 -89.983521  \n",
       "4  36.217052 -81.687983  "
      ]
     },
     "execution_count": 24,
     "metadata": {},
     "output_type": "execute_result"
    }
   ],
   "source": [
    "transactions = pd.read_csv('mj-clean.csv', parse_dates=[5])\n",
    "transactions.head()"
   ]
  },
  {
   "cell_type": "code",
   "execution_count": null,
   "metadata": {
    "pycharm": {
     "name": "#%%\n"
    }
   },
   "outputs": [],
   "source": []
  },
  {
   "cell_type": "markdown",
   "metadata": {},
   "source": [
    "`dailies` is the map from quality name to DataFrame."
   ]
  },
  {
   "cell_type": "code",
   "execution_count": 53,
   "metadata": {
    "pycharm": {
     "is_executing": false,
     "name": "#%%\n"
    }
   },
   "outputs": [],
   "source": [
    "dailies = timeseries.GroupByQualityAndDay(transactions)"
   ]
  },
  {
   "cell_type": "code",
   "execution_count": 54,
   "metadata": {
    "pycharm": {
     "is_executing": false,
     "name": "#%%\n"
    }
   },
   "outputs": [],
   "source": [
    "\n",
    "\n",
    "# test the correlation between consecutive prices\n",
    "\n",
    "name = 'high'\n",
    "daily = dailies[name]\n",
    "\n",
    "series = daily.ppg\n",
    "# For daily price of high quality weed and lag of 1, compute the serial correlation\n",
    "test = SerialCorrelationTest((series, 1))"
   ]
  },
  {
   "cell_type": "markdown",
   "metadata": {},
   "source": [
    "The actual value of correlation is computed by SerialCorrelationTest's  TestStatistic and the p-value is computed by running TestStatistic 1000 times with RunModel producing a permuted series every time."
   ]
  },
  {
   "cell_type": "code",
   "execution_count": 43,
   "metadata": {
    "pycharm": {
     "is_executing": false,
     "name": "#%%\n"
    }
   },
   "outputs": [
    {
     "name": "stdout",
     "output_type": "stream",
     "text": [
      "0.48522937619473827 0.0\n"
     ]
    }
   ],
   "source": [
    "pvalue = test.PValue()\n",
    "print(test.actual, pvalue)"
   ]
  },
  {
   "cell_type": "markdown",
   "metadata": {
    "pycharm": {
     "name": "#%% md\n"
    }
   },
   "source": [
    "p-value is zero which shows no serial correlation. The actual correlation is .48 "
   ]
  },
  {
   "cell_type": "code",
   "execution_count": 47,
   "metadata": {
    "pycharm": {
     "is_executing": false,
     "name": "#%%\n"
    }
   },
   "outputs": [
    {
     "name": "stdout",
     "output_type": "stream",
     "text": [
      "0.48669484708192995 0.0\n"
     ]
    }
   ],
   "source": [
    "test = SerialCorrelationTest((series, 20))\n",
    "pvalue = test.PValue()\n",
    "print(test.actual, pvalue)"
   ]
  },
  {
   "cell_type": "code",
   "execution_count": 48,
   "metadata": {
    "pycharm": {
     "is_executing": false,
     "name": "#%%\n"
    }
   },
   "outputs": [
    {
     "name": "stdout",
     "output_type": "stream",
     "text": [
      "0.3984215588187465 0.0\n"
     ]
    }
   ],
   "source": [
    "test = SerialCorrelationTest((series, 200))\n",
    "pvalue = test.PValue()\n",
    "print(test.actual, pvalue)"
   ]
  },
  {
   "cell_type": "code",
   "execution_count": 49,
   "metadata": {
    "pycharm": {
     "is_executing": false,
     "name": "#%%\n"
    }
   },
   "outputs": [
    {
     "name": "stdout",
     "output_type": "stream",
     "text": [
      "0.3403450179460918 0.0\n"
     ]
    }
   ],
   "source": [
    "test = SerialCorrelationTest((series, 365))\n",
    "pvalue = test.PValue()\n",
    "print(test.actual, pvalue)"
   ]
  },
  {
   "cell_type": "markdown",
   "metadata": {},
   "source": [
    "The actual correaltion decreases with lag value."
   ]
  },
  {
   "cell_type": "code",
   "execution_count": 52,
   "metadata": {
    "pycharm": {
     "is_executing": false,
     "name": "#%%\n"
    }
   },
   "outputs": [
    {
     "name": "stdout",
     "output_type": "stream",
     "text": [
      "0.07570473767506267 0.009\n"
     ]
    }
   ],
   "source": [
    "# test for serial correlation in residuals of the linear model\n",
    "\n",
    "_, results = timeseries.RunLinearModel(daily)\n",
    "series = results.resid\n",
    "test = SerialCorrelationTest((series, 1))\n",
    "pvalue = test.PValue()\n",
    "print(test.actual, pvalue)    "
   ]
  },
  {
   "cell_type": "markdown",
   "metadata": {},
   "source": [
    "p-value increased a little bit but not significantly"
   ]
  },
  {
   "cell_type": "code",
   "execution_count": 51,
   "metadata": {
    "pycharm": {
     "is_executing": false,
     "name": "#%%\n"
    }
   },
   "outputs": [
    {
     "name": "stdout",
     "output_type": "stream",
     "text": [
      "0.056073081612899055 0.044\n"
     ]
    }
   ],
   "source": [
    "# test for serial correlation in residuals of the quadratic model\n",
    "\n",
    "_, results = RunQuadraticModel(daily)\n",
    "series = results.resid\n",
    "test = SerialCorrelationTest((series, 1))\n",
    "pvalue = test.PValue()\n",
    "print(test.actual, pvalue)"
   ]
  },
  {
   "cell_type": "markdown",
   "metadata": {
    "pycharm": {
     "name": "#%% md\n"
    }
   },
   "source": [
    "p-value increased a little bit but not significantly. "
   ]
  }
 ],
 "metadata": {
  "kernelspec": {
   "display_name": "Python 3",
   "language": "python",
   "name": "python3"
  },
  "language_info": {
   "codemirror_mode": {
    "name": "ipython",
    "version": 3
   },
   "file_extension": ".py",
   "mimetype": "text/x-python",
   "name": "python",
   "nbconvert_exporter": "python",
   "pygments_lexer": "ipython3",
   "version": "3.7.4"
  },
  "pycharm": {
   "stem_cell": {
    "cell_type": "raw",
    "metadata": {
     "collapsed": false
    },
    "source": []
   }
  }
 },
 "nbformat": 4,
 "nbformat_minor": 1
}
