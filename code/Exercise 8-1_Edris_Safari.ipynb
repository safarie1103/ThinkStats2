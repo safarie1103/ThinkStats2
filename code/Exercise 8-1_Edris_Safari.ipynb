{
 "cells": [
  {
   "cell_type": "code",
   "execution_count": null,
   "metadata": {
    "pycharm": {
     "name": "#%%\n"
    }
   },
   "outputs": [],
   "source": []
  },
  {
   "cell_type": "markdown",
   "metadata": {},
   "source": [
    "## File : Exercise 8-1_Edris_Safari.ipynb\n",
    "## Name:Edris Safari\n",
    "## Date:1/20/2019\n",
    "## Course: DSC530 - Data Exploration and Analysis\n",
    "## Desc: Week7 exercise 8-1 assignment"
   ]
  },
  {
   "cell_type": "markdown",
   "metadata": {},
   "source": [
    "In this chapter we used $\\overline{X}$ and median to estimate $\\mu$, and\n",
    "found that  $\\overline{X}$  yields lower MSE.\n",
    "Also, we used $S^2$ and $S_{n-1}^2$ to estimate $\\sigma$, and found that\n",
    "$S^2$ is biased and $S_{n-1}^2$ unbiased.\n",
    "\n",
    "Run similar experiments to see if  $\\overline{X}$ and median are biased estimates\n",
    "of $\\mu$.\n",
    "Also check whether $S^2$ or $S_{n-1}^2$ yields a lower MSE."
   ]
  },
  {
   "cell_type": "code",
   "execution_count": 12,
   "metadata": {},
   "outputs": [],
   "source": [
    "from __future__ import print_function, division\n",
    "\n",
    "import thinkstats2\n",
    "import thinkplot\n",
    "\n",
    "import math\n",
    "import random\n",
    "import numpy as np\n",
    "\n",
    "def MeanError(estimates, actual):\n",
    "    \"\"\"Computes the mean error of a sequence of estimates.\n",
    "\n",
    "    estimate: sequence of numbers\n",
    "    actual: actual value\n",
    "\n",
    "    returns: float mean error\n",
    "    \"\"\"\n",
    "    errors = [estimate-actual for estimate in estimates]\n",
    "    return np.mean(errors)\n",
    "\n",
    "def RMSE(estimates, actual):\n",
    "    \"\"\"Computes the root mean squared error of a sequence of estimates.\n",
    "\n",
    "    estimate: sequence of numbers\n",
    "    actual: actual value\n",
    "\n",
    "    returns: float RMSE\n",
    "    \"\"\"\n",
    "    e2 = [(estimate-actual)**2 for estimate in estimates]\n",
    "    mse = np.mean(e2)\n",
    "    return math.sqrt(mse)\n",
    "\n",
    "def Estimate_MeanMedian(n, m):\n",
    "    \"\"\"Mean error for xbar and median as estimators of population mean.\n",
    "\n",
    "    n: sample size\n",
    "    m: number of iterations\n",
    "    \"\"\"\n",
    "    mu = 0\n",
    "    sigma = 1\n",
    "\n",
    "    means = []\n",
    "    medians = []\n",
    "    for _ in range(m):\n",
    "        xs = [random.gauss(mu, sigma) for i in range(n)]\n",
    "        xbar = np.mean(xs)\n",
    "        median = np.median(xs)\n",
    "        means.append(xbar)\n",
    "        medians.append(median)\n",
    "\n",
    "    print('Mean & Median estimator comparison for n = ' + str(n) + ' and m = ' + str(m))\n",
    "    print('mean error xbar', MeanError(means, mu))\n",
    "    print('mean error median', MeanError(medians, mu))\n",
    "\n",
    "\n",
    "def Estimate_Variance(n,m):\n",
    "    \"\"\"RMSE for biased and unbiased estimators of population variance.\n",
    "\n",
    "    n: sample size\n",
    "    m: number of iterations\n",
    "    \"\"\"\n",
    "    mu = 0\n",
    "    sigma = 1\n",
    "\n",
    "    estimates_biased = []\n",
    "    estimates_unbiased = []\n",
    "    for _ in range(m):\n",
    "        xs = [random.gauss(mu, sigma) for i in range(n)]\n",
    "        biased = np.var(xs)\n",
    "        unbiased = np.var(xs, ddof=1)\n",
    "        estimates_biased.append(biased)\n",
    "        estimates_unbiased.append(unbiased)\n",
    "\n",
    "    print('Biased and unbiased variance estimator comparison for n = ' + str(n) + ' and m = ' + str(m))\n",
    "    print('RMSE biased', RMSE(estimates_biased, sigma**2))\n",
    "    print('RMSE unbiased', RMSE(estimates_unbiased, sigma**2))\n",
    "    \n",
    "    print('unbiased - biased ', RMSE(estimates_unbiased, sigma**2) - RMSE(estimates_biased, sigma**2))\n",
    "    "
   ]
  },
  {
   "cell_type": "code",
   "execution_count": 13,
   "metadata": {
    "pycharm": {
     "name": "#%%\n"
    }
   },
   "outputs": [
    {
     "name": "stdout",
     "output_type": "stream",
     "text": [
      "Mean & Median estimator comparison for n = 7 and m = 1000\n",
      "mean error xbar -0.004093012941405046\n",
      "mean error median 0.0024428689330422424\n",
      "Mean & Median estimator comparison for n = 7 and m = 100000\n",
      "mean error xbar -0.0007998596546904573\n",
      "mean error median 3.110282222304829e-05\n"
     ]
    }
   ],
   "source": [
    "Estimate_MeanMedian(7,1000)\n",
    "Estimate_MeanMedian(7,100000)"
   ]
  },
  {
   "cell_type": "markdown",
   "metadata": {},
   "source": [
    "mean and median errors get smaller as m increases. This indicates there is no bias."
   ]
  },
  {
   "cell_type": "code",
   "execution_count": 14,
   "metadata": {
    "pycharm": {
     "name": "#%%\n"
    }
   },
   "outputs": [
    {
     "name": "stdout",
     "output_type": "stream",
     "text": [
      "Biased and unbiased variance estimator comparison for n = 7 and m = 1000\n",
      "RMSE biased 0.5378908627550228\n",
      "RMSE unbiased 0.6181591881483225\n",
      "unbiased - biased  0.08026832539329964\n",
      "Biased and unbiased variance estimator comparison for n = 7 and m = 100000\n",
      "RMSE biased 0.5141945915039616\n",
      "RMSE unbiased 0.575557123883028\n",
      "unbiased - biased  0.061362532379066415\n"
     ]
    }
   ],
   "source": [
    "Estimate_Variance(7,1000)\n",
    "Estimate_Variance(7,100000)"
   ]
  },
  {
   "cell_type": "markdown",
   "metadata": {
    "pycharm": {
     "name": "#%% md\n"
    }
   },
   "source": [
    "RSME for biased and unbiased variances change proportionally as m increases. For both values of m RSME is lower than unbiased.\n"
   ]
  }
 ],
 "metadata": {
  "kernelspec": {
   "display_name": "Python 3",
   "language": "python",
   "name": "python3"
  },
  "language_info": {
   "codemirror_mode": {
    "name": "ipython",
    "version": 3
   },
   "file_extension": ".py",
   "mimetype": "text/x-python",
   "name": "python",
   "nbconvert_exporter": "python",
   "pygments_lexer": "ipython3",
   "version": "3.7.4"
  },
  "pycharm": {
   "stem_cell": {
    "cell_type": "raw",
    "source": [],
    "metadata": {
     "collapsed": false
    }
   }
  }
 },
 "nbformat": 4,
 "nbformat_minor": 1
}