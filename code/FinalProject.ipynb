{
 "cells": [
  {
   "cell_type": "markdown",
   "metadata": {
    "collapsed": true
   },
   "source": [
    "## File : FinalProject_Edris_Safari.ipynb\n",
    "## Name:Edris Safari\n",
    "## Date:12/20/2019\n",
    "## Course: DSC530 - Data Exploration and Analysis\n",
    "## Desc: FinalProject assignment"
   ]
  },
  {
   "cell_type": "code",
   "execution_count": 16,
   "metadata": {
    "pycharm": {
     "is_executing": false,
     "name": "#%%\n"
    }
   },
   "outputs": [],
   "source": [
    "\n",
    "from __future__ import print_function, division\n",
    "\n",
    "%matplotlib inline\n",
    "\n",
    "import numpy as np\n",
    "\n",
    "import pandas as pd\n",
    "import thinkstats2\n",
    "import thinkplot\n",
    "\n",
    " "
   ]
  },
  {
   "cell_type": "markdown",
   "metadata": {},
   "source": []
  },
  {
   "cell_type": "code",
   "execution_count": 17,
   "metadata": {
    "pycharm": {
     "is_executing": false,
     "name": "#%%\n"
    },
    "scrolled": true
   },
   "outputs": [],
   "source": [
    "df_main = pd.read_csv(\"FinalProject/fifa19_data.csv\")\n",
    "df = df_main.sample(frac=.25)"
   ]
  },
  {
   "cell_type": "code",
   "execution_count": 19,
   "metadata": {
    "pycharm": {
     "is_executing": false
    }
   },
   "outputs": [
    {
     "data": {
      "text/plain": "Index(['Unnamed: 0', 'ID', 'Name', 'Age', 'Photo', 'Nationality', 'Flag',\n       'Overall', 'Potential', 'Club', 'Club Logo', 'Value', 'Wage', 'Special',\n       'Preferred Foot', 'International Reputation', 'Weak Foot',\n       'Skill Moves', 'Work Rate', 'Body Type', 'Real Face', 'Position',\n       'Jersey Number', 'Joined', 'Loaned From', 'Contract Valid Until',\n       'Height', 'Weight', 'LS', 'ST', 'RS', 'LW', 'LF', 'CF', 'RF', 'RW',\n       'LAM', 'CAM', 'RAM', 'LM', 'LCM', 'CM', 'RCM', 'RM', 'LWB', 'LDM',\n       'CDM', 'RDM', 'RWB', 'LB', 'LCB', 'CB', 'RCB', 'RB', 'Crossing',\n       'Finishing', 'HeadingAccuracy', 'ShortPassing', 'Volleys', 'Dribbling',\n       'Curve', 'FKAccuracy', 'LongPassing', 'BallControl', 'Acceleration',\n       'SprintSpeed', 'Agility', 'Reactions', 'Balance', 'ShotPower',\n       'Jumping', 'Stamina', 'Strength', 'LongShots', 'Aggression',\n       'Interceptions', 'Positioning', 'Vision', 'Penalties', 'Composure',\n       'Marking', 'StandingTackle', 'SlidingTackle', 'GKDiving', 'GKHandling',\n       'GKKicking', 'GKPositioning', 'GKReflexes', 'Release Clause'],\n      dtype='object')"
     },
     "metadata": {},
     "output_type": "execute_result",
     "execution_count": 19
    }
   ],
   "source": [
    "df_main.columns"
   ]
  },
  {
   "cell_type": "markdown",
   "metadata": {},
   "source": []
  },
  {
   "cell_type": "markdown",
   "metadata": {},
   "source": []
  },
  {
   "cell_type": "code",
   "execution_count": 4,
   "metadata": {
    "pycharm": {
     "is_executing": false,
     "name": "#%%\n"
    }
   },
   "outputs": [
    {
     "data": {
      "text/plain": [
       "Hist({64: 295, 67: 276, 69: 276, 68: 273, 66: 273, 63: 263, 65: 259, 70: 220, 62: 214, 72: 191, 71: 186, 61: 164, 60: 154, 73: 151, 74: 139, 75: 128, 59: 119, 58: 114, 57: 91, 76: 84, 77: 83, 56: 79, 55: 74, 53: 61, 54: 55, 78: 52, 79: 45, 52: 42, 80: 28, 82: 28, 51: 26, 50: 21, 83: 17, 81: 16, 84: 12, 48: 10, 85: 8, 49: 7, 47: 5, 88: 3, 89: 3, 86: 3, 87: 2, 90: 1, 91: 1})"
      ]
     },
     "execution_count": 4,
     "metadata": {},
     "output_type": "execute_result"
    }
   ],
   "source": [
    "hist = thinkstats2.Hist(df['Overall'])\n",
    "hist\n"
   ]
  },
  {
   "cell_type": "code",
   "execution_count": 5,
   "metadata": {
    "pycharm": {
     "is_executing": false,
     "name": "#%%\n"
    }
   },
   "outputs": [
    {
     "data": {
      "image/png": "[encoded data removed]",
      "text/plain": [
       "<Figure size 432x288 with 1 Axes>"
      ]
     },
     "metadata": {
      "needs_background": "light"
     },
     "output_type": "display_data"
    }
   ],
   "source": [
    "thinkplot.Hist(hist)\n",
    "thinkplot.Config(xlabel='Player Rating(1 to 100)', ylabel='Count')"
   ]
  },
  {
   "cell_type": "code",
   "execution_count": 6,
   "metadata": {
    "pycharm": {
     "is_executing": false
    }
   },
   "outputs": [
    {
     "data": {
      "text/plain": [
       "Pmf({64: 0.06480667838312829, 67: 0.06063268892794376, 69: 0.06063268892794376, 68: 0.059973637961335674, 66: 0.059973637961335674, 63: 0.057776801405975395, 65: 0.05689806678383128, 70: 0.048330404217926184, 62: 0.04701230228471001, 72: 0.041959578207381366, 71: 0.04086115992970123, 61: 0.03602811950790861, 60: 0.03383128295254833, 73: 0.03317223198594024, 74: 0.030536028119507907, 75: 0.028119507908611598, 59: 0.026142355008787345, 58: 0.025043936731107205, 57: 0.019991212653778557, 76: 0.01845342706502636, 77: 0.018233743409490334, 56: 0.01735500878734622, 55: 0.01625659050966608, 53: 0.013400702987697714, 54: 0.012082601054481546, 78: 0.011423550087873461, 79: 0.009885764499121265, 52: 0.00922671353251318, 80: 0.006151142355008787, 82: 0.006151142355008787, 51: 0.005711775043936731, 50: 0.00461335676625659, 83: 0.003734622144112478, 81: 0.0035149384885764497, 84: 0.0026362038664323375, 48: 0.002196836555360281, 85: 0.0017574692442882249, 49: 0.0015377855887521968, 47: 0.0010984182776801405, 88: 0.0006590509666080844, 89: 0.0006590509666080844, 86: 0.0006590509666080844, 87: 0.0004393673110720562, 90: 0.0002196836555360281, 91: 0.0002196836555360281}, 'Overall')"
      ]
     },
     "execution_count": 6,
     "metadata": {},
     "output_type": "execute_result"
    }
   ],
   "source": [
    "pmf = thinkstats2.Pmf(df['Overall'], label='Overall')\n",
    "pmf\n",
    "\n"
   ]
  },
  {
   "cell_type": "code",
   "execution_count": 7,
   "metadata": {
    "pycharm": {
     "is_executing": false
    }
   },
   "outputs": [
    {
     "data": {
      "image/png": "[encoded data removed]",
      "text/plain": [
       "<Figure size 432x288 with 1 Axes>"
      ]
     },
     "metadata": {
      "needs_background": "light"
     },
     "output_type": "display_data"
    }
   ],
   "source": [
    "thinkplot.Hist(pmf)\n",
    "thinkplot.Config(xlabel='Overall', ylabel='Pmf')"
   ]
  },
  {
   "cell_type": "code",
   "execution_count": 8,
   "metadata": {
    "pycharm": {
     "is_executing": false
    }
   },
   "outputs": [],
   "source": [
    "skills =[\"Crossing\",\"Finishing\",\"HeadingAccuracy\",\"ShortPassing\",\"Volleys\",\"Dribbling\",\"Curve\",\"FKAccuracy\",\"LongPassing\",\"BallControl\",\"Acceleration\",\"SprintSpeed\",\"Agility\",\"Reactions\",\"Balance\",\"ShotPower\",\"Jumping\",\"Stamina\",\"Strength\",\"LongShots\",\"Aggression\",\"Interceptions\",\"Positioning\",\"Vision\",\"Penalties\",\"Composure\",\"Marking\",\"StandingTackle\",\"SlidingTackle\",\"GKDiving\",\"GKHandling\",\"GKKicking\",\"GKPositioning\",\"GKReflexes\"]\n",
    "df[\"MeanSkills\"] =df.loc[:,skills].mean(axis=1)"
   ]
  },
  {
   "cell_type": "code",
   "execution_count": 11,
   "metadata": {
    "pycharm": {
     "is_executing": false
    }
   },
   "outputs": [
    {
     "name": "stderr",
     "output_type": "stream",
     "text": [
      "c:\\users\\safar\\documents\\github\\thinkstats2\\venv\\lib\\site-packages\\numpy\\lib\\nanfunctions.py:1115: RuntimeWarning: All-NaN slice encountered\n",
      "  overwrite_input=overwrite_input)\n"
     ]
    }
   ],
   "source": [
    "df[\"MedianSkills\"] =df.loc[:,skills].median(axis=1)"
   ]
  },
  {
   "cell_type": "code",
   "execution_count": 12,
   "metadata": {
    "pycharm": {
     "is_executing": false
    }
   },
   "outputs": [
    {
     "data": {
      "text/html": [
       "<div>\n",
       "<style scoped>\n",
       "    .dataframe tbody tr th:only-of-type {\n",
       "        vertical-align: middle;\n",
       "    }\n",
       "\n",
       "    .dataframe tbody tr th {\n",
       "        vertical-align: top;\n",
       "    }\n",
       "\n",
       "    .dataframe thead th {\n",
       "        text-align: right;\n",
       "    }\n",
       "</style>\n",
       "<table border=\"1\" class=\"dataframe\">\n",
       "  <thead>\n",
       "    <tr style=\"text-align: right;\">\n",
       "      <th></th>\n",
       "      <th>Overall</th>\n",
       "      <th>MeanSkills</th>\n",
       "      <th>MedianSkills</th>\n",
       "    </tr>\n",
       "  </thead>\n",
       "  <tbody>\n",
       "    <tr>\n",
       "      <th>17242</th>\n",
       "      <td>55</td>\n",
       "      <td>28.441176</td>\n",
       "      <td>22.0</td>\n",
       "    </tr>\n",
       "    <tr>\n",
       "      <th>2215</th>\n",
       "      <td>74</td>\n",
       "      <td>50.264706</td>\n",
       "      <td>50.0</td>\n",
       "    </tr>\n",
       "    <tr>\n",
       "      <th>8255</th>\n",
       "      <td>67</td>\n",
       "      <td>54.352941</td>\n",
       "      <td>62.5</td>\n",
       "    </tr>\n",
       "    <tr>\n",
       "      <th>9375</th>\n",
       "      <td>66</td>\n",
       "      <td>48.264706</td>\n",
       "      <td>53.5</td>\n",
       "    </tr>\n",
       "    <tr>\n",
       "      <th>8080</th>\n",
       "      <td>67</td>\n",
       "      <td>55.264706</td>\n",
       "      <td>63.5</td>\n",
       "    </tr>\n",
       "    <tr>\n",
       "      <th>...</th>\n",
       "      <td>...</td>\n",
       "      <td>...</td>\n",
       "      <td>...</td>\n",
       "    </tr>\n",
       "    <tr>\n",
       "      <th>15229</th>\n",
       "      <td>60</td>\n",
       "      <td>41.323529</td>\n",
       "      <td>42.5</td>\n",
       "    </tr>\n",
       "    <tr>\n",
       "      <th>2129</th>\n",
       "      <td>74</td>\n",
       "      <td>55.647059</td>\n",
       "      <td>64.5</td>\n",
       "    </tr>\n",
       "    <tr>\n",
       "      <th>6309</th>\n",
       "      <td>69</td>\n",
       "      <td>52.529412</td>\n",
       "      <td>60.5</td>\n",
       "    </tr>\n",
       "    <tr>\n",
       "      <th>6179</th>\n",
       "      <td>69</td>\n",
       "      <td>55.735294</td>\n",
       "      <td>65.0</td>\n",
       "    </tr>\n",
       "    <tr>\n",
       "      <th>7570</th>\n",
       "      <td>68</td>\n",
       "      <td>32.794118</td>\n",
       "      <td>24.5</td>\n",
       "    </tr>\n",
       "  </tbody>\n",
       "</table>\n",
       "<p>4552 rows × 3 columns</p>\n",
       "</div>"
      ],
      "text/plain": [
       "       Overall  MeanSkills  MedianSkills\n",
       "17242       55   28.441176          22.0\n",
       "2215        74   50.264706          50.0\n",
       "8255        67   54.352941          62.5\n",
       "9375        66   48.264706          53.5\n",
       "8080        67   55.264706          63.5\n",
       "...        ...         ...           ...\n",
       "15229       60   41.323529          42.5\n",
       "2129        74   55.647059          64.5\n",
       "6309        69   52.529412          60.5\n",
       "6179        69   55.735294          65.0\n",
       "7570        68   32.794118          24.5\n",
       "\n",
       "[4552 rows x 3 columns]"
      ]
     },
     "execution_count": 12,
     "metadata": {},
     "output_type": "execute_result"
    }
   ],
   "source": [
    "df[['Overall','MeanSkills','MedianSkills']]\n",
    "   "
   ]
  },
  {
   "cell_type": "code",
   "execution_count": 103,
   "metadata": {},
   "outputs": [],
   "source": [
    "from datetime import datetime\n",
    "df['Joined']= pd.to_datetime(df['Joined']) \n",
    "df['Experience'] = datetime(2019, 12, 31) - df['Joined']\n",
    "\n",
    "# df['YearsPlayed'] = datetime(2019, 12, 31) - datetime.strptime(df[\"Joined\"], '%d-%b-%y')"
   ]
  },
  {
   "cell_type": "code",
   "execution_count": 104,
   "metadata": {},
   "outputs": [
    {
     "data": {
      "text/html": [
       "<div>\n",
       "<style scoped>\n",
       "    .dataframe tbody tr th:only-of-type {\n",
       "        vertical-align: middle;\n",
       "    }\n",
       "\n",
       "    .dataframe tbody tr th {\n",
       "        vertical-align: top;\n",
       "    }\n",
       "\n",
       "    .dataframe thead th {\n",
       "        text-align: right;\n",
       "    }\n",
       "</style>\n",
       "<table border=\"1\" class=\"dataframe\">\n",
       "  <thead>\n",
       "    <tr style=\"text-align: right;\">\n",
       "      <th></th>\n",
       "      <th>Joined</th>\n",
       "      <th>Experience</th>\n",
       "    </tr>\n",
       "  </thead>\n",
       "  <tbody>\n",
       "    <tr>\n",
       "      <th>9491</th>\n",
       "      <td>NaT</td>\n",
       "      <td>NaT</td>\n",
       "    </tr>\n",
       "    <tr>\n",
       "      <th>7247</th>\n",
       "      <td>2014-08-04</td>\n",
       "      <td>1975 days</td>\n",
       "    </tr>\n",
       "    <tr>\n",
       "      <th>83</th>\n",
       "      <td>2013-07-01</td>\n",
       "      <td>2374 days</td>\n",
       "    </tr>\n",
       "    <tr>\n",
       "      <th>1882</th>\n",
       "      <td>2018-08-16</td>\n",
       "      <td>502 days</td>\n",
       "    </tr>\n",
       "    <tr>\n",
       "      <th>17398</th>\n",
       "      <td>2015-03-19</td>\n",
       "      <td>1748 days</td>\n",
       "    </tr>\n",
       "    <tr>\n",
       "      <th>...</th>\n",
       "      <td>...</td>\n",
       "      <td>...</td>\n",
       "    </tr>\n",
       "    <tr>\n",
       "      <th>853</th>\n",
       "      <td>2012-06-08</td>\n",
       "      <td>2762 days</td>\n",
       "    </tr>\n",
       "    <tr>\n",
       "      <th>13881</th>\n",
       "      <td>2017-03-18</td>\n",
       "      <td>1018 days</td>\n",
       "    </tr>\n",
       "    <tr>\n",
       "      <th>6594</th>\n",
       "      <td>2014-07-24</td>\n",
       "      <td>1986 days</td>\n",
       "    </tr>\n",
       "    <tr>\n",
       "      <th>3070</th>\n",
       "      <td>2018-01-26</td>\n",
       "      <td>704 days</td>\n",
       "    </tr>\n",
       "    <tr>\n",
       "      <th>12170</th>\n",
       "      <td>2018-07-02</td>\n",
       "      <td>547 days</td>\n",
       "    </tr>\n",
       "  </tbody>\n",
       "</table>\n",
       "<p>4552 rows × 2 columns</p>\n",
       "</div>"
      ],
      "text/plain": [
       "          Joined Experience\n",
       "9491         NaT        NaT\n",
       "7247  2014-08-04  1975 days\n",
       "83    2013-07-01  2374 days\n",
       "1882  2018-08-16   502 days\n",
       "17398 2015-03-19  1748 days\n",
       "...          ...        ...\n",
       "853   2012-06-08  2762 days\n",
       "13881 2017-03-18  1018 days\n",
       "6594  2014-07-24  1986 days\n",
       "3070  2018-01-26   704 days\n",
       "12170 2018-07-02   547 days\n",
       "\n",
       "[4552 rows x 2 columns]"
      ]
     },
     "execution_count": 104,
     "metadata": {},
     "output_type": "execute_result"
    }
   ],
   "source": [
    "df[['Joined','Experience']]"
   ]
  },
  {
   "cell_type": "code",
   "execution_count": 53,
   "metadata": {},
   "outputs": [
    {
     "data": {
      "text/plain": [
       "Pmf({46.205882352941174: 0.0035226772346983706, 55.26470588235294: 0.0030823425803610744, 53.029411764705884: 0.0030823425803610744, 48.61764705882353: 0.002862175253192426, 51.794117647058826: 0.002862175253192426, 51.64705882352941: 0.002862175253192426, 46.588235294117645: 0.002642007926023778, 54.73529411764706: 0.002642007926023778, 54.6764705882353: 0.002642007926023778, 45.294117647058826: 0.002642007926023778, 51.55882352941177: 0.002642007926023778, 44.35294117647059: 0.002642007926023778, 45.794117647058826: 0.002642007926023778, 54.970588235294116: 0.002642007926023778, 53.5: 0.002642007926023778, 50.05882352941177: 0.002642007926023778, 49.55882352941177: 0.002642007926023778, 50.61764705882353: 0.0024218405988551297, 52.3235294117647: 0.0024218405988551297, 55.029411764705884: 0.0024218405988551297, 49.11764705882353: 0.0024218405988551297, 53.6764705882353: 0.0024218405988551297, 43.6764705882353: 0.0024218405988551297, 53.35294117647059: 0.0024218405988551297, 48.5: 0.0024218405988551297, 57.26470588235294: 0.0024218405988551297, 45.411764705882355: 0.0024218405988551297, 50.088235294117645: 0.0024218405988551297, 49.705882352941174: 0.0024218405988551297, 53.0: 0.0024218405988551297, 47.55882352941177: 0.0024218405988551297, 50.8235294117647: 0.0024218405988551297, 48.44117647058823: 0.0024218405988551297, 50.23529411764706: 0.002201673271686482, 53.294117647058826: 0.002201673271686482, 48.029411764705884: 0.002201673271686482, 53.11764705882353: 0.002201673271686482, 49.8235294117647: 0.002201673271686482, 51.3235294117647: 0.002201673271686482, 52.529411764705884: 0.002201673271686482, 46.8235294117647: 0.002201673271686482, 53.794117647058826: 0.002201673271686482, 49.35294117647059: 0.002201673271686482, 52.23529411764706: 0.002201673271686482, 46.64705882352941: 0.002201673271686482, 47.44117647058823: 0.002201673271686482, 51.588235294117645: 0.002201673271686482, 50.205882352941174: 0.002201673271686482, 55.38235294117647: 0.002201673271686482, 53.411764705882355: 0.002201673271686482, 49.470588235294116: 0.002201673271686482, 51.38235294117647: 0.002201673271686482, 50.705882352941174: 0.002201673271686482, 49.23529411764706: 0.002201673271686482, 52.35294117647059: 0.002201673271686482, 54.61764705882353: 0.002201673271686482, 54.35294117647059: 0.002201673271686482, 51.94117647058823: 0.002201673271686482, 52.8235294117647: 0.002201673271686482, 48.76470588235294: 0.002201673271686482, 48.05882352941177: 0.002201673271686482, 44.0: 0.002201673271686482, 51.029411764705884: 0.0019815059445178335, 51.35294117647059: 0.0019815059445178335, 55.3235294117647: 0.0019815059445178335, 55.85294117647059: 0.0019815059445178335, 47.3235294117647: 0.0019815059445178335, 52.64705882352941: 0.0019815059445178335, 55.5: 0.0019815059445178335, 53.44117647058823: 0.0019815059445178335, 47.85294117647059: 0.0019815059445178335, 52.44117647058823: 0.0019815059445178335, 49.088235294117645: 0.0019815059445178335, 49.0: 0.0019815059445178335, 53.470588235294116: 0.0019815059445178335, 52.55882352941177: 0.0019815059445178335, 50.38235294117647: 0.0019815059445178335, 50.0: 0.0019815059445178335, 50.64705882352941: 0.0019815059445178335, 52.26470588235294: 0.0019815059445178335, 46.73529411764706: 0.0019815059445178335, 48.23529411764706: 0.0019815059445178335, 48.94117647058823: 0.0019815059445178335, 46.1764705882353: 0.0019815059445178335, 54.38235294117647: 0.0019815059445178335, 51.26470588235294: 0.0019815059445178335, 54.529411764705884: 0.0019815059445178335, 52.794117647058826: 0.0019815059445178335, 51.5: 0.0019815059445178335, 51.911764705882355: 0.0019815059445178335, 51.05882352941177: 0.0019815059445178335, 46.5: 0.0019815059445178335, 49.794117647058826: 0.0017613386173491853, 54.0: 0.0017613386173491853, 56.529411764705884: 0.0017613386173491853, 47.14705882352941: 0.0017613386173491853, 48.470588235294116: 0.0017613386173491853, 52.970588235294116: 0.0017613386173491853, 51.44117647058823: 0.0017613386173491853, 56.55882352941177: 0.0017613386173491853, 48.970588235294116: 0.0017613386173491853, 49.294117647058826: 0.0017613386173491853, 45.6764705882353: 0.0017613386173491853, 44.029411764705884: 0.0017613386173491853, 53.14705882352941: 0.0017613386173491853, 56.1764705882353: 0.0017613386173491853, 56.705882352941174: 0.0017613386173491853, 51.8235294117647: 0.0017613386173491853, 54.029411764705884: 0.0017613386173491853, 47.94117647058823: 0.0017613386173491853, 52.85294117647059: 0.0017613386173491853, 46.6764705882353: 0.0017613386173491853, 53.911764705882355: 0.0017613386173491853, 49.14705882352941: 0.0017613386173491853, 52.14705882352941: 0.0017613386173491853, 47.794117647058826: 0.0017613386173491853, 47.61764705882353: 0.0017613386173491853, 48.85294117647059: 0.0017613386173491853, 42.85294117647059: 0.0017613386173491853, 47.705882352941174: 0.0017613386173491853, 55.1764705882353: 0.0017613386173491853, 51.411764705882355: 0.0017613386173491853, 54.294117647058826: 0.0017613386173491853, 57.05882352941177: 0.0017613386173491853, 44.26470588235294: 0.0017613386173491853, 46.55882352941177: 0.0017613386173491853, 51.61764705882353: 0.0017613386173491853, 56.911764705882355: 0.0017613386173491853, 46.11764705882353: 0.0017613386173491853, 52.94117647058823: 0.0017613386173491853, 50.911764705882355: 0.0017613386173491853, 51.23529411764706: 0.0017613386173491853, 47.470588235294116: 0.0017613386173491853, 59.411764705882355: 0.0017613386173491853, 52.76470588235294: 0.0017613386173491853, 46.94117647058823: 0.0017613386173491853, 47.05882352941177: 0.0017613386173491853, 54.911764705882355: 0.0017613386173491853, 57.1764705882353: 0.0017613386173491853, 49.64705882352941: 0.0017613386173491853, 46.88235294117647: 0.0017613386173491853, 51.76470588235294: 0.0017613386173491853, 54.44117647058823: 0.0017613386173491853, 46.38235294117647: 0.0017613386173491853, 45.35294117647059: 0.0017613386173491853, 46.794117647058826: 0.0017613386173491853, 47.029411764705884: 0.0015411712901805372, 49.05882352941177: 0.0015411712901805372, 44.73529411764706: 0.0015411712901805372, 51.205882352941174: 0.0015411712901805372, 57.14705882352941: 0.0015411712901805372, 56.470588235294116: 0.0015411712901805372, 43.411764705882355: 0.0015411712901805372, 53.73529411764706: 0.0015411712901805372, 55.11764705882353: 0.0015411712901805372, 52.73529411764706: 0.0015411712901805372, 56.14705882352941: 0.0015411712901805372, 50.029411764705884: 0.0015411712901805372, 54.55882352941177: 0.0015411712901805372, 49.76470588235294: 0.0015411712901805372, 55.23529411764706: 0.0015411712901805372, 55.88235294117647: 0.0015411712901805372, 54.14705882352941: 0.0015411712901805372, 55.0: 0.0015411712901805372, 47.38235294117647: 0.0015411712901805372, 47.64705882352941: 0.0015411712901805372, 49.85294117647059: 0.0015411712901805372, 55.470588235294116: 0.0015411712901805372, 52.911764705882355: 0.0015411712901805372, 58.0: 0.0015411712901805372, 56.294117647058826: 0.0015411712901805372, 50.970588235294116: 0.0015411712901805372, 54.705882352941174: 0.0015411712901805372, 55.794117647058826: 0.0015411712901805372, 46.23529411764706: 0.0015411712901805372, 51.73529411764706: 0.0015411712901805372, 46.35294117647059: 0.0015411712901805372, 50.6764705882353: 0.0015411712901805372, 59.6764705882353: 0.0015411712901805372, 54.64705882352941: 0.0015411712901805372, 53.88235294117647: 0.0015411712901805372, 54.205882352941174: 0.0015411712901805372, 53.05882352941177: 0.0015411712901805372, 50.76470588235294: 0.0015411712901805372, 53.588235294117645: 0.0015411712901805372, 51.11764705882353: 0.0015411712901805372, 49.529411764705884: 0.0015411712901805372, 51.14705882352941: 0.0015411712901805372, 52.411764705882355: 0.0015411712901805372, 45.61764705882353: 0.0015411712901805372, 44.55882352941177: 0.0015411712901805372, 49.970588235294116: 0.0015411712901805372, 52.705882352941174: 0.0015411712901805372, 49.61764705882353: 0.0015411712901805372, 55.64705882352941: 0.0015411712901805372, 45.64705882352941: 0.0015411712901805372, 47.88235294117647: 0.0015411712901805372, 53.205882352941174: 0.0015411712901805372, 56.970588235294116: 0.0015411712901805372, 55.94117647058823: 0.0015411712901805372, 45.970588235294116: 0.0015411712901805372, 50.44117647058823: 0.0015411712901805372, 47.088235294117645: 0.0015411712901805372, 51.705882352941174: 0.0015411712901805372, 51.470588235294116: 0.0015411712901805372, 54.411764705882355: 0.0015411712901805372, 45.1764705882353: 0.0015411712901805372, 43.588235294117645: 0.0015411712901805372, 56.088235294117645: 0.0015411712901805372, 56.05882352941177: 0.0015411712901805372, 57.705882352941174: 0.0015411712901805372, 50.26470588235294: 0.0015411712901805372, 46.529411764705884: 0.0015411712901805372, 52.5: 0.0015411712901805372, 53.529411764705884: 0.0015411712901805372, 48.705882352941174: 0.0015411712901805372, 52.470588235294116: 0.0015411712901805372, 54.05882352941177: 0.0015411712901805372, 58.970588235294116: 0.0015411712901805372, 58.470588235294116: 0.0015411712901805372, 43.11764705882353: 0.0015411712901805372, 44.85294117647059: 0.0015411712901805372, 55.55882352941177: 0.001321003963011889, 50.73529411764706: 0.001321003963011889, 48.55882352941177: 0.001321003963011889, 56.8235294117647: 0.001321003963011889, 41.705882352941174: 0.001321003963011889, 52.6764705882353: 0.001321003963011889, 54.8235294117647: 0.001321003963011889, 53.3235294117647: 0.001321003963011889, 54.85294117647059: 0.001321003963011889, 53.26470588235294: 0.001321003963011889, 57.11764705882353: 0.001321003963011889, 49.38235294117647: 0.001321003963011889, 56.205882352941174: 0.001321003963011889, 57.3235294117647: 0.001321003963011889, 54.76470588235294: 0.001321003963011889, 50.411764705882355: 0.001321003963011889, 56.85294117647059: 0.001321003963011889, 46.411764705882355: 0.001321003963011889, 43.294117647058826: 0.001321003963011889, 48.6764705882353: 0.001321003963011889, 45.911764705882355: 0.001321003963011889, 47.35294117647059: 0.001321003963011889, 51.6764705882353: 0.001321003963011889, 45.44117647058823: 0.001321003963011889, 53.38235294117647: 0.001321003963011889, 49.029411764705884: 0.001321003963011889, 57.35294117647059: 0.001321003963011889, 47.23529411764706: 0.001321003963011889, 48.411764705882355: 0.001321003963011889, 56.588235294117645: 0.001321003963011889, 52.205882352941174: 0.001321003963011889, 47.76470588235294: 0.001321003963011889, 48.38235294117647: 0.001321003963011889, 60.05882352941177: 0.001321003963011889, 46.911764705882355: 0.001321003963011889, 44.11764705882353: 0.001321003963011889, 58.35294117647059: 0.001321003963011889, 46.44117647058823: 0.001321003963011889, 57.73529411764706: 0.001321003963011889, 53.85294117647059: 0.001321003963011889, 49.411764705882355: 0.001321003963011889, 50.1764705882353: 0.001321003963011889, 59.029411764705884: 0.001321003963011889, 57.5: 0.001321003963011889, 41.5: 0.001321003963011889, 55.76470588235294: 0.001321003963011889, 55.14705882352941: 0.001321003963011889, 54.11764705882353: 0.001321003963011889, 50.3235294117647: 0.001321003963011889, 54.470588235294116: 0.001321003963011889, 47.529411764705884: 0.001321003963011889, 49.1764705882353: 0.001321003963011889, 46.61764705882353: 0.001321003963011889, 49.5: 0.001321003963011889, 47.411764705882355: 0.001321003963011889, 46.705882352941174: 0.001321003963011889, 51.85294117647059: 0.001321003963011889, 48.205882352941174: 0.001321003963011889, 44.588235294117645: 0.001321003963011889, 47.911764705882355: 0.001321003963011889, 54.26470588235294: 0.001321003963011889, 45.470588235294116: 0.001321003963011889, 45.029411764705884: 0.001321003963011889, 56.26470588235294: 0.001321003963011889, 43.55882352941177: 0.001321003963011889, 43.61764705882353: 0.001321003963011889, 59.23529411764706: 0.001321003963011889, 43.38235294117647: 0.001321003963011889, 54.794117647058826: 0.001321003963011889, 49.205882352941174: 0.001321003963011889, 49.588235294117645: 0.001321003963011889, 58.088235294117645: 0.001321003963011889, 55.294117647058826: 0.001321003963011889, 58.61764705882353: 0.001321003963011889, 50.5: 0.001321003963011889, 52.88235294117647: 0.001321003963011889, 53.94117647058823: 0.001321003963011889, 51.529411764705884: 0.001321003963011889, 50.88235294117647: 0.001321003963011889, 48.64705882352941: 0.001321003963011889, 46.85294117647059: 0.001321003963011889, 46.05882352941177: 0.001321003963011889, 53.61764705882353: 0.001321003963011889, 42.5: 0.001321003963011889, 50.294117647058826: 0.001321003963011889, 57.0: 0.001321003963011889, 45.76470588235294: 0.001321003963011889, 44.411764705882355: 0.001321003963011889, 48.1764705882353: 0.001321003963011889, 47.1764705882353: 0.001321003963011889, 43.94117647058823: 0.001321003963011889, 52.61764705882353: 0.001321003963011889, 47.588235294117645: 0.001321003963011889, 42.11764705882353: 0.001321003963011889, 43.88235294117647: 0.001321003963011889, 55.411764705882355: 0.001100836635843241, 42.64705882352941: 0.001100836635843241, 51.294117647058826: 0.001100836635843241, 58.205882352941174: 0.001100836635843241, 45.38235294117647: 0.001100836635843241, 50.11764705882353: 0.001100836635843241, 49.44117647058823: 0.001100836635843241, 55.205882352941174: 0.001100836635843241, 44.94117647058823: 0.001100836635843241, 58.05882352941177: 0.001100836635843241, 48.88235294117647: 0.001100836635843241, 48.588235294117645: 0.001100836635843241, 57.6764705882353: 0.001100836635843241, 55.911764705882355: 0.001100836635843241, 41.94117647058823: 0.001100836635843241, 58.705882352941174: 0.001100836635843241, 50.55882352941177: 0.001100836635843241, 59.911764705882355: 0.001100836635843241, 53.55882352941177: 0.001100836635843241, 45.088235294117645: 0.001100836635843241, 32.73529411764706: 0.001100836635843241, 44.88235294117647: 0.001100836635843241, 60.5: 0.001100836635843241, 46.029411764705884: 0.001100836635843241, 45.55882352941177: 0.001100836635843241, 44.1764705882353: 0.001100836635843241, 44.794117647058826: 0.001100836635843241, 55.05882352941177: 0.001100836635843241, 52.38235294117647: 0.001100836635843241, 56.794117647058826: 0.001100836635843241, 43.14705882352941: 0.001100836635843241, 48.911764705882355: 0.001100836635843241, 59.14705882352941: 0.001100836635843241, 57.64705882352941: 0.001100836635843241, 42.73529411764706: 0.001100836635843241, 43.73529411764706: 0.001100836635843241, 58.44117647058823: 0.001100836635843241, 59.11764705882353: 0.001100836635843241, 54.23529411764706: 0.001100836635843241, 41.970588235294116: 0.001100836635843241, 41.14705882352941: 0.001100836635843241, 47.73529411764706: 0.001100836635843241, 42.8235294117647: 0.001100836635843241, 46.088235294117645: 0.001100836635843241, 50.94117647058823: 0.001100836635843241, 61.5: 0.001100836635843241, 45.23529411764706: 0.001100836635843241, 45.705882352941174: 0.001100836635843241, 46.294117647058826: 0.001100836635843241, 56.6764705882353: 0.001100836635843241, 57.088235294117645: 0.001100836635843241, 40.6764705882353: 0.001100836635843241, 47.5: 0.001100836635843241, 42.0: 0.001100836635843241, 56.0: 0.001100836635843241, 54.088235294117645: 0.001100836635843241, 47.11764705882353: 0.001100836635843241, 46.14705882352941: 0.001100836635843241, 55.73529411764706: 0.001100836635843241, 52.0: 0.001100836635843241, 44.911764705882355: 0.001100836635843241, 50.85294117647059: 0.001100836635843241, 45.14705882352941: 0.001100836635843241, 57.205882352941174: 0.001100836635843241, 57.23529411764706: 0.001100836635843241, 51.88235294117647: 0.001100836635843241, 50.588235294117645: 0.001100836635843241, 48.0: 0.001100836635843241, 46.3235294117647: 0.001100836635843241, 46.470588235294116: 0.001100836635843241, 52.294117647058826: 0.001100836635843241, 59.3235294117647: 0.001100836635843241, 56.23529411764706: 0.001100836635843241, 50.794117647058826: 0.001100836635843241, 60.411764705882355: 0.001100836635843241, 41.35294117647059: 0.001100836635843241, 53.23529411764706: 0.001100836635843241, 48.26470588235294: 0.001100836635843241, 45.8235294117647: 0.001100836635843241, 42.26470588235294: 0.001100836635843241, 48.35294117647059: 0.001100836635843241, 55.529411764705884: 0.001100836635843241, 47.205882352941174: 0.001100836635843241, 60.85294117647059: 0.001100836635843241, 54.88235294117647: 0.001100836635843241, 58.64705882352941: 0.001100836635843241, 53.8235294117647: 0.001100836635843241, 42.205882352941174: 0.001100836635843241, 51.1764705882353: 0.001100836635843241, 58.029411764705884: 0.001100836635843241, 45.0: 0.001100836635843241, 50.529411764705884: 0.0008806693086745927, 45.205882352941174: 0.0008806693086745927, 60.23529411764706: 0.0008806693086745927, 49.73529411764706: 0.0008806693086745927, 39.85294117647059: 0.0008806693086745927, 60.705882352941174: 0.0008806693086745927, 44.5: 0.0008806693086745927, 59.8235294117647: 0.0008806693086745927, 42.029411764705884: 0.0008806693086745927, 62.64705882352941: 0.0008806693086745927, 61.05882352941177: 0.0008806693086745927, 54.5: 0.0008806693086745927, 45.73529411764706: 0.0008806693086745927, 55.588235294117645: 0.0008806693086745927, 43.85294117647059: 0.0008806693086745927, 46.970588235294116: 0.0008806693086745927, 48.3235294117647: 0.0008806693086745927, 42.529411764705884: 0.0008806693086745927, 40.26470588235294: 0.0008806693086745927, 44.088235294117645: 0.0008806693086745927, 46.0: 0.0008806693086745927, 48.8235294117647: 0.0008806693086745927, 40.14705882352941: 0.0008806693086745927, 32.794117647058826: 0.0008806693086745927, 36.794117647058826: 0.0008806693086745927, 59.88235294117647: 0.0008806693086745927, 58.23529411764706: 0.0008806693086745927, 31.647058823529413: 0.0008806693086745927, 31.764705882352942: 0.0008806693086745927, 52.05882352941177: 0.0008806693086745927, 57.970588235294116: 0.0008806693086745927, 30.058823529411764: 0.0008806693086745927, 43.088235294117645: 0.0008806693086745927, 39.55882352941177: 0.0008806693086745927, 52.088235294117645: 0.0008806693086745927, 40.23529411764706: 0.0008806693086745927, 43.1764705882353: 0.0008806693086745927, 55.61764705882353: 0.0008806693086745927, 43.970588235294116: 0.0008806693086745927, 51.088235294117645: 0.0008806693086745927, 59.55882352941177: 0.0008806693086745927, 48.294117647058826: 0.0008806693086745927, 50.14705882352941: 0.0008806693086745927, 43.794117647058826: 0.0008806693086745927, 59.85294117647059: 0.0008806693086745927, 45.88235294117647: 0.0008806693086745927, 41.588235294117645: 0.0008806693086745927, 48.088235294117645: 0.0008806693086745927, 47.8235294117647: 0.0008806693086745927, 45.85294117647059: 0.0008806693086745927, 55.088235294117645: 0.0008806693086745927, 42.61764705882353: 0.0008806693086745927, 41.088235294117645: 0.0008806693086745927, 43.64705882352941: 0.0008806693086745927, 58.794117647058826: 0.0008806693086745927, 42.1764705882353: 0.0008806693086745927, 56.94117647058823: 0.0008806693086745927, 42.411764705882355: 0.0008806693086745927, 33.73529411764706: 0.0008806693086745927, 43.0: 0.0008806693086745927, 54.94117647058823: 0.0008806693086745927, 41.529411764705884: 0.0008806693086745927, 42.23529411764706: 0.0008806693086745927, 44.205882352941174: 0.0008806693086745927, 56.411764705882355: 0.0008806693086745927, 44.38235294117647: 0.0008806693086745927, 49.911764705882355: 0.0008806693086745927, 61.76470588235294: 0.0008806693086745927, 47.26470588235294: 0.0008806693086745927, 41.55882352941177: 0.0008806693086745927, 49.6764705882353: 0.0008806693086745927, 57.029411764705884: 0.0008806693086745927, 53.1764705882353: 0.0008806693086745927, 61.88235294117647: 0.0008806693086745927, 51.0: 0.0008806693086745927, 58.55882352941177: 0.0008806693086745927, 44.44117647058823: 0.0008806693086745927, 58.1764705882353: 0.0008806693086745927, 48.73529411764706: 0.0008806693086745927, 34.3235294117647: 0.0008806693086745927, 53.76470588235294: 0.0008806693086745927, 36.705882352941174: 0.0008806693086745927, 58.3235294117647: 0.0008806693086745927, 56.61764705882353: 0.0008806693086745927, 33.11764705882353: 0.0008806693086745927, 52.029411764705884: 0.0008806693086745927, 63.470588235294116: 0.0008806693086745927, 44.6764705882353: 0.0008806693086745927, 45.26470588235294: 0.0008806693086745927, 43.705882352941174: 0.0008806693086745927, 45.529411764705884: 0.0008806693086745927, 55.6764705882353: 0.0008806693086745927, 48.11764705882353: 0.0008806693086745927, 60.0: 0.0008806693086745927, 45.3235294117647: 0.0008806693086745927, 48.794117647058826: 0.0008806693086745927, 40.73529411764706: 0.0008806693086745927, 53.64705882352941: 0.0008806693086745927, 39.470588235294116: 0.0008806693086745927, 36.94117647058823: 0.0008806693086745927, 38.705882352941174: 0.0008806693086745927, 45.11764705882353: 0.0008806693086745927, 55.970588235294116: 0.0008806693086745927, 43.5: 0.0008806693086745927, 44.529411764705884: 0.0008806693086745927, 57.588235294117645: 0.0008806693086745927, 45.5: 0.0008806693086745927, 40.0: 0.0008806693086745927, 49.3235294117647: 0.0008806693086745927, 42.470588235294116: 0.0008806693086745927, 55.35294117647059: 0.0006605019815059445, 58.73529411764706: 0.0006605019815059445, 58.294117647058826: 0.0006605019815059445, 61.1764705882353: 0.0006605019815059445, 44.76470588235294: 0.0006605019815059445, 57.411764705882355: 0.0006605019815059445, 41.029411764705884: 0.0006605019815059445, 43.029411764705884: 0.0006605019815059445, 43.205882352941174: 0.0006605019815059445, 44.64705882352941: 0.0006605019815059445, 39.029411764705884: 0.0006605019815059445, 60.3235294117647: 0.0006605019815059445, 48.14705882352941: 0.0006605019815059445, 59.94117647058823: 0.0006605019815059445, 34.794117647058826: 0.0006605019815059445, 26.441176470588236: 0.0006605019815059445, 29.264705882352942: 0.0006605019815059445, 35.94117647058823: 0.0006605019815059445, 40.11764705882353: 0.0006605019815059445, 58.911764705882355: 0.0006605019815059445, 37.73529411764706: 0.0006605019815059445, 40.8235294117647: 0.0006605019815059445, 59.294117647058826: 0.0006605019815059445, 40.94117647058823: 0.0006605019815059445, 41.44117647058823: 0.0006605019815059445, 33.205882352941174: 0.0006605019815059445, 41.64705882352941: 0.0006605019815059445, 56.3235294117647: 0.0006605019815059445, 36.11764705882353: 0.0006605019815059445, 41.0: 0.0006605019815059445, 55.8235294117647: 0.0006605019815059445, 60.588235294117645: 0.0006605019815059445, 57.470588235294116: 0.0006605019815059445, 30.264705882352942: 0.0006605019815059445, 62.44117647058823: 0.0006605019815059445, 33.23529411764706: 0.0006605019815059445, 61.64705882352941: 0.0006605019815059445, 36.61764705882353: 0.0006605019815059445, 58.85294117647059: 0.0006605019815059445, 54.3235294117647: 0.0006605019815059445, 41.26470588235294: 0.0006605019815059445, 28.705882352941178: 0.0006605019815059445, 49.94117647058823: 0.0006605019815059445, 61.470588235294116: 0.0006605019815059445, 52.588235294117645: 0.0006605019815059445, 39.44117647058823: 0.0006605019815059445, 47.6764705882353: 0.0006605019815059445, 37.05882352941177: 0.0006605019815059445, 33.1764705882353: 0.0006605019815059445, 62.14705882352941: 0.0006605019815059445, 56.11764705882353: 0.0006605019815059445, 35.55882352941177: 0.0006605019815059445, 59.529411764705884: 0.0006605019815059445, 37.14705882352941: 0.0006605019815059445, 57.38235294117647: 0.0006605019815059445, 55.705882352941174: 0.0006605019815059445, 59.05882352941177: 0.0006605019815059445, 38.85294117647059: 0.0006605019815059445, 54.1764705882353: 0.0006605019815059445, 63.0: 0.0006605019815059445, 58.76470588235294: 0.0006605019815059445, 44.470588235294116: 0.0006605019815059445, 35.029411764705884: 0.0006605019815059445, 49.26470588235294: 0.0006605019815059445, 60.44117647058823: 0.0006605019815059445, 57.85294117647059: 0.0006605019815059445, 36.14705882352941: 0.0006605019815059445, 43.23529411764706: 0.0006605019815059445, 40.55882352941177: 0.0006605019815059445, 57.55882352941177: 0.0006605019815059445, 32.26470588235294: 0.0006605019815059445, 46.76470588235294: 0.0006605019815059445, 59.794117647058826: 0.0006605019815059445, 35.970588235294116: 0.0006605019815059445, 25.941176470588236: 0.0006605019815059445, 60.26470588235294: 0.0006605019815059445, 54.588235294117645: 0.0006605019815059445, 44.294117647058826: 0.0006605019815059445, 26.705882352941178: 0.0006605019815059445, 36.88235294117647: 0.0006605019815059445, 34.23529411764706: 0.0006605019815059445, 45.05882352941177: 0.0006605019815059445, 44.705882352941174: 0.0006605019815059445, 57.61764705882353: 0.0006605019815059445, 40.088235294117645: 0.0006605019815059445, 32.588235294117645: 0.0006605019815059445, 61.6764705882353: 0.0006605019815059445, 59.588235294117645: 0.0006605019815059445, 53.970588235294116: 0.0006605019815059445, 29.970588235294116: 0.0006605019815059445, 42.911764705882355: 0.0006605019815059445, 33.529411764705884: 0.0006605019815059445, 62.529411764705884: 0.0006605019815059445, 40.705882352941174: 0.0006605019815059445, 41.205882352941174: 0.0006605019815059445, 39.11764705882353: 0.0006605019815059445, 57.911764705882355: 0.0006605019815059445, 64.6470588235294: 0.0006605019815059445, 41.11764705882353: 0.0006605019815059445, 37.470588235294116: 0.0006605019815059445, 42.3235294117647: 0.0006605019815059445, 57.76470588235294: 0.0006605019815059445, 40.85294117647059: 0.0006605019815059445, 32.61764705882353: 0.0006605019815059445, 60.73529411764706: 0.0006605019815059445, 61.38235294117647: 0.0006605019815059445, 52.1764705882353: 0.0006605019815059445, 65.70588235294117: 0.0006605019815059445, 43.470588235294116: 0.0006605019815059445, 40.470588235294116: 0.0006605019815059445, 36.029411764705884: 0.0006605019815059445, 40.588235294117645: 0.0006605019815059445, 44.61764705882353: 0.0006605019815059445, 33.3235294117647: 0.0006605019815059445, 47.0: 0.0006605019815059445, 39.1764705882353: 0.0006605019815059445, 42.14705882352941: 0.0006605019815059445, 42.794117647058826: 0.0006605019815059445, 41.05882352941177: 0.0006605019815059445, 44.05882352941177: 0.0006605019815059445, 38.294117647058826: 0.0006605019815059445, 44.3235294117647: 0.0006605019815059445, 27.147058823529413: 0.0006605019815059445, 31.705882352941178: 0.0006605019815059445, 43.26470588235294: 0.0006605019815059445, 45.94117647058823: 0.0006605019815059445, 58.11764705882353: 0.0006605019815059445, 60.64705882352941: 0.0006605019815059445, 41.1764705882353: 0.0006605019815059445, 59.088235294117645: 0.0006605019815059445, 59.44117647058823: 0.0006605019815059445, 51.970588235294116: 0.0006605019815059445, 58.588235294117645: 0.0006605019815059445, 30.205882352941178: 0.0006605019815059445, 32.5: 0.0006605019815059445, 62.088235294117645: 0.0006605019815059445, 59.1764705882353: 0.0006605019815059445, 60.88235294117647: 0.0006605019815059445, 59.35294117647059: 0.0006605019815059445, 37.11764705882353: 0.0006605019815059445, 37.64705882352941: 0.0006605019815059445, 37.38235294117647: 0.0006605019815059445, 39.911764705882355: 0.00044033465433729633, 30.764705882352942: 0.00044033465433729633, 42.55882352941177: 0.00044033465433729633, 33.05882352941177: 0.00044033465433729633, 62.588235294117645: 0.00044033465433729633, 38.794117647058826: 0.00044033465433729633, 39.6764705882353: 0.00044033465433729633, 39.88235294117647: 0.00044033465433729633, 47.294117647058826: 0.00044033465433729633, 24.58823529411765: 0.00044033465433729633, 36.64705882352941: 0.00044033465433729633, 50.470588235294116: 0.00044033465433729633, 49.88235294117647: 0.00044033465433729633, 33.6764705882353: 0.00044033465433729633, 26.147058823529413: 0.00044033465433729633, 28.58823529411765: 0.00044033465433729633, 37.23529411764706: 0.00044033465433729633, 62.76470588235294: 0.00044033465433729633, 56.64705882352941: 0.00044033465433729633, 44.8235294117647: 0.00044033465433729633, 42.970588235294116: 0.00044033465433729633, 40.61764705882353: 0.00044033465433729633, 39.970588235294116: 0.00044033465433729633, 42.88235294117647: 0.00044033465433729633, 43.05882352941177: 0.00044033465433729633, 40.88235294117647: 0.00044033465433729633, 31.352941176470587: 0.00044033465433729633, 62.470588235294116: 0.00044033465433729633, 25.764705882352942: 0.00044033465433729633, 63.38235294117647: 0.00044033465433729633, 31.470588235294116: 0.00044033465433729633, 30.352941176470587: 0.00044033465433729633, 38.470588235294116: 0.00044033465433729633, 44.23529411764706: 0.00044033465433729633, 31.147058823529413: 0.00044033465433729633, 63.588235294117645: 0.00044033465433729633, 58.411764705882355: 0.00044033465433729633, 58.529411764705884: 0.00044033465433729633, 61.3235294117647: 0.00044033465433729633, 40.3235294117647: 0.00044033465433729633, 42.76470588235294: 0.00044033465433729633, 60.35294117647059: 0.00044033465433729633, 64.70588235294117: 0.00044033465433729633, 33.94117647058823: 0.00044033465433729633, 35.088235294117645: 0.00044033465433729633, 60.11764705882353: 0.00044033465433729633, 32.85294117647059: 0.00044033465433729633, 31.88235294117647: 0.00044033465433729633, 36.6764705882353: 0.00044033465433729633, 41.61764705882353: 0.00044033465433729633, 33.411764705882355: 0.00044033465433729633, 36.529411764705884: 0.00044033465433729633, 34.1764705882353: 0.00044033465433729633, 50.35294117647059: 0.00044033465433729633, 39.05882352941177: 0.00044033465433729633, 42.44117647058823: 0.00044033465433729633, 41.88235294117647: 0.00044033465433729633, 59.0: 0.00044033465433729633, 36.1764705882353: 0.00044033465433729633, 39.0: 0.00044033465433729633, 29.5: 0.00044033465433729633, 56.5: 0.00044033465433729633, 62.911764705882355: 0.00044033465433729633, 42.705882352941174: 0.00044033465433729633, 34.64705882352941: 0.00044033465433729633, 32.205882352941174: 0.00044033465433729633, 61.794117647058826: 0.00044033465433729633, 46.26470588235294: 0.00044033465433729633, 34.911764705882355: 0.00044033465433729633, 28.264705882352942: 0.00044033465433729633, 35.470588235294116: 0.00044033465433729633, 34.11764705882353: 0.00044033465433729633, 57.88235294117647: 0.00044033465433729633, 61.588235294117645: 0.00044033465433729633, 42.588235294117645: 0.00044033465433729633, 61.294117647058826: 0.00044033465433729633, 43.529411764705884: 0.00044033465433729633, 53.705882352941174: 0.00044033465433729633, 29.558823529411764: 0.00044033465433729633, 40.76470588235294: 0.00044033465433729633, 33.0: 0.00044033465433729633, 43.35294117647059: 0.00044033465433729633, 61.705882352941174: 0.00044033465433729633, 58.88235294117647: 0.00044033465433729633, 65.5: 0.00044033465433729633, 30.176470588235293: 0.00044033465433729633, 31.941176470588236: 0.00044033465433729633, 63.14705882352941: 0.00044033465433729633, 45.588235294117645: 0.00044033465433729633, 29.647058823529413: 0.00044033465433729633, 62.11764705882353: 0.00044033465433729633, 29.794117647058822: 0.00044033465433729633, 26.264705882352942: 0.00044033465433729633, 37.44117647058823: 0.00044033465433729633, 42.088235294117645: 0.00044033465433729633, 64.58823529411765: 0.00044033465433729633, 58.6764705882353: 0.00044033465433729633, 25.029411764705884: 0.00044033465433729633, 29.676470588235293: 0.00044033465433729633, 43.911764705882355: 0.00044033465433729633, 60.088235294117645: 0.00044033465433729633, 32.88235294117647: 0.00044033465433729633, 31.176470588235293: 0.00044033465433729633, 57.44117647058823: 0.00044033465433729633, 62.85294117647059: 0.00044033465433729633, 27.794117647058822: 0.00044033465433729633, 35.705882352941174: 0.00044033465433729633, 39.205882352941174: 0.00044033465433729633, 39.3235294117647: 0.00044033465433729633, 30.735294117647058: 0.00044033465433729633, 57.294117647058826: 0.00044033465433729633, 42.6764705882353: 0.00044033465433729633, 30.470588235294116: 0.00044033465433729633, 48.529411764705884: 0.00044033465433729633, 37.294117647058826: 0.00044033465433729633, 60.8235294117647: 0.00044033465433729633, 42.35294117647059: 0.00044033465433729633, 27.264705882352942: 0.00044033465433729633, 34.0: 0.00044033465433729633, 25.235294117647058: 0.00044033465433729633, 36.3235294117647: 0.00044033465433729633, 31.91176470588235: 0.00044033465433729633, 31.205882352941178: 0.00044033465433729633, 61.14705882352941: 0.00044033465433729633, 38.588235294117645: 0.00044033465433729633, 25.61764705882353: 0.00044033465433729633, 32.55882352941177: 0.00044033465433729633, 41.911764705882355: 0.00044033465433729633, 56.88235294117647: 0.00044033465433729633, 56.76470588235294: 0.00044033465433729633, 37.26470588235294: 0.00044033465433729633, 39.411764705882355: 0.00044033465433729633, 39.23529411764706: 0.00044033465433729633, 64.32352941176471: 0.00044033465433729633, 31.735294117647058: 0.00044033465433729633, 60.470588235294116: 0.00044033465433729633, 41.8235294117647: 0.00044033465433729633, 63.1764705882353: 0.00044033465433729633, 65.97058823529412: 0.00044033465433729633, 62.61764705882353: 0.00044033465433729633, 42.294117647058826: 0.00044033465433729633, 66.29411764705883: 0.00044033465433729633, 63.55882352941177: 0.00044033465433729633, 32.1764705882353: 0.00044033465433729633, 41.294117647058826: 0.00044033465433729633, 35.1764705882353: 0.00044033465433729633, 24.88235294117647: 0.00044033465433729633, 60.029411764705884: 0.00044033465433729633, 26.11764705882353: 0.00044033465433729633, 41.73529411764706: 0.00044033465433729633, 35.794117647058826: 0.00044033465433729633, 32.64705882352941: 0.00044033465433729633, 34.26470588235294: 0.00044033465433729633, 41.411764705882355: 0.00044033465433729633, 37.61764705882353: 0.00044033465433729633, 40.38235294117647: 0.00044033465433729633, 57.94117647058823: 0.00044033465433729633, 38.44117647058823: 0.00044033465433729633, 29.38235294117647: 0.00044033465433729633, 38.55882352941177: 0.00044033465433729633, 27.88235294117647: 0.00044033465433729633, 56.44117647058823: 0.00044033465433729633, 32.44117647058823: 0.00044033465433729633, 40.35294117647059: 0.00044033465433729633, 60.6764705882353: 0.00044033465433729633, 38.14705882352941: 0.00044033465433729633, 60.94117647058823: 0.00044033465433729633, 36.23529411764706: 0.00044033465433729633, 47.970588235294116: 0.00044033465433729633, 43.44117647058823: 0.00044033465433729633, 33.44117647058823: 0.00044033465433729633, 34.294117647058826: 0.00044033465433729633, 58.26470588235294: 0.00044033465433729633, 61.088235294117645: 0.00044033465433729633, 35.44117647058823: 0.00044033465433729633, 35.38235294117647: 0.00044033465433729633, 61.029411764705884: 0.00044033465433729633, 37.55882352941177: 0.00044033465433729633, 38.0: 0.00044033465433729633, 62.1764705882353: 0.00044033465433729633, 39.5: 0.00044033465433729633, 29.58823529411765: 0.00044033465433729633, 43.8235294117647: 0.00044033465433729633, 28.294117647058822: 0.00044033465433729633, 26.205882352941178: 0.00044033465433729633, 30.941176470588236: 0.00044033465433729633, 58.5: 0.00044033465433729633, 31.58823529411765: 0.00044033465433729633, 34.76470588235294: 0.00044033465433729633, 52.11764705882353: 0.00044033465433729633, 29.705882352941178: 0.00044033465433729633, 35.529411764705884: 0.00044033465433729633, 40.529411764705884: 0.00044033465433729633, 35.26470588235294: 0.00044033465433729633, 60.1764705882353: 0.00044033465433729633, 59.26470588235294: 0.00044033465433729633, 39.73529411764706: 0.00044033465433729633, 34.14705882352941: 0.00044033465433729633, 35.411764705882355: 0.00044033465433729633, 62.55882352941177: 0.00044033465433729633, 38.38235294117647: 0.00044033465433729633, 28.029411764705884: 0.00044033465433729633, 34.05882352941177: 0.00044033465433729633, 58.8235294117647: 0.00044033465433729633, 37.8235294117647: 0.00044033465433729633, 24.705882352941178: 0.00044033465433729633, 33.14705882352941: 0.00044033465433729633, 30.08823529411765: 0.00044033465433729633, 60.294117647058826: 0.00044033465433729633, 41.38235294117647: 0.00044033465433729633, 59.61764705882353: 0.00044033465433729633, 39.76470588235294: 0.00044033465433729633, 61.411764705882355: 0.00044033465433729633, 57.529411764705884: 0.00044033465433729633, 25.176470588235293: 0.00044033465433729633, 33.029411764705884: 0.00044033465433729633, 34.205882352941174: 0.00044033465433729633, 25.970588235294116: 0.00044033465433729633, 24.0: 0.00022016732716864817, 26.323529411764707: 0.00022016732716864817, 32.0: 0.00022016732716864817, 31.38235294117647: 0.00022016732716864817, 37.6764705882353: 0.00022016732716864817, 26.0: 0.00022016732716864817, 64.0: 0.00022016732716864817, 27.852941176470587: 0.00022016732716864817, 24.294117647058822: 0.00022016732716864817, 56.029411764705884: 0.00022016732716864817, 38.23529411764706: 0.00022016732716864817, 41.76470588235294: 0.00022016732716864817, 35.61764705882353: 0.00022016732716864817, 59.970588235294116: 0.00022016732716864817, 27.470588235294116: 0.00022016732716864817, 34.94117647058823: 0.00022016732716864817, 35.35294117647059: 0.00022016732716864817, 33.26470588235294: 0.00022016732716864817, 66.82352941176471: 0.00022016732716864817, 32.05882352941177: 0.00022016732716864817, 39.529411764705884: 0.00022016732716864817, 34.35294117647059: 0.00022016732716864817, 36.970588235294116: 0.00022016732716864817, 41.23529411764706: 0.00022016732716864817, 34.73529411764706: 0.00022016732716864817, 63.970588235294116: 0.00022016732716864817, 29.147058823529413: 0.00022016732716864817, 30.705882352941178: 0.00022016732716864817, 24.91176470588235: 0.00022016732716864817, 67.05882352941177: 0.00022016732716864817, 41.6764705882353: 0.00022016732716864817, 26.88235294117647: 0.00022016732716864817, 59.205882352941174: 0.00022016732716864817, 29.61764705882353: 0.00022016732716864817, 27.294117647058822: 0.00022016732716864817, 39.38235294117647: 0.00022016732716864817, 57.794117647058826: 0.00022016732716864817, 61.55882352941177: 0.00022016732716864817, 25.352941176470587: 0.00022016732716864817, 27.676470588235293: 0.00022016732716864817, 59.64705882352941: 0.00022016732716864817, 34.088235294117645: 0.00022016732716864817, 34.470588235294116: 0.00022016732716864817, 60.970588235294116: 0.00022016732716864817, 36.8235294117647: 0.00022016732716864817, 36.26470588235294: 0.00022016732716864817, 40.1764705882353: 0.00022016732716864817, 29.764705882352942: 0.00022016732716864817, 23.676470588235293: 0.00022016732716864817, 63.73529411764706: 0.00022016732716864817, 30.11764705882353: 0.00022016732716864817, 37.1764705882353: 0.00022016732716864817, 22.529411764705884: 0.00022016732716864817, 37.94117647058823: 0.00022016732716864817, 40.411764705882355: 0.00022016732716864817, 64.08823529411765: 0.00022016732716864817, 39.94117647058823: 0.00022016732716864817, 27.11764705882353: 0.00022016732716864817, 37.5: 0.00022016732716864817, 29.294117647058822: 0.00022016732716864817, 39.14705882352941: 0.00022016732716864817, 28.441176470588236: 0.00022016732716864817, 35.11764705882353: 0.00022016732716864817, 31.676470588235293: 0.00022016732716864817, 24.823529411764707: 0.00022016732716864817, 62.88235294117647: 0.00022016732716864817, 23.941176470588236: 0.00022016732716864817, 31.41176470588235: 0.00022016732716864817, 33.588235294117645: 0.00022016732716864817, 66.26470588235294: 0.00022016732716864817, 38.35294117647059: 0.00022016732716864817, 64.17647058823529: 0.00022016732716864817, 23.558823529411764: 0.00022016732716864817, 63.26470588235294: 0.00022016732716864817, 26.852941176470587: 0.00022016732716864817, 42.05882352941177: 0.00022016732716864817, 35.14705882352941: 0.00022016732716864817, 31.441176470588236: 0.00022016732716864817, 65.02941176470588: 0.00022016732716864817, 40.294117647058826: 0.00022016732716864817, 26.029411764705884: 0.00022016732716864817, 30.441176470588236: 0.00022016732716864817, 39.35294117647059: 0.00022016732716864817, 27.205882352941178: 0.00022016732716864817, 27.941176470588236: 0.00022016732716864817, 60.14705882352941: 0.00022016732716864817, 64.82352941176471: 0.00022016732716864817, 33.470588235294116: 0.00022016732716864817, 44.970588235294116: 0.00022016732716864817, 64.44117647058823: 0.00022016732716864817, 64.55882352941177: 0.00022016732716864817, 28.676470588235293: 0.00022016732716864817, 43.76470588235294: 0.00022016732716864817, 33.088235294117645: 0.00022016732716864817, 35.23529411764706: 0.00022016732716864817, 32.911764705882355: 0.00022016732716864817, 33.88235294117647: 0.00022016732716864817, 61.35294117647059: 0.00022016732716864817, 58.38235294117647: 0.00022016732716864817, 25.323529411764707: 0.00022016732716864817, 37.705882352941174: 0.00022016732716864817, 62.94117647058823: 0.00022016732716864817, 63.205882352941174: 0.00022016732716864817, 32.8235294117647: 0.00022016732716864817, 37.35294117647059: 0.00022016732716864817, 35.6764705882353: 0.00022016732716864817, 35.73529411764706: 0.00022016732716864817, 35.294117647058826: 0.00022016732716864817, 38.61764705882353: 0.00022016732716864817, 59.76470588235294: 0.00022016732716864817, 38.970588235294116: 0.00022016732716864817, 39.64705882352941: 0.00022016732716864817, 26.08823529411765: 0.00022016732716864817, 30.676470588235293: 0.00022016732716864817, 61.61764705882353: 0.00022016732716864817, 63.911764705882355: 0.00022016732716864817, 27.91176470588235: 0.00022016732716864817, 62.294117647058826: 0.00022016732716864817, 30.5: 0.00022016732716864817, 35.0: 0.00022016732716864817, 25.0: 0.00022016732716864817, 24.5: 0.00022016732716864817, 31.294117647058822: 0.00022016732716864817, 40.44117647058823: 0.00022016732716864817, 39.705882352941174: 0.00022016732716864817, 56.35294117647059: 0.00022016732716864817, 23.970588235294116: 0.00022016732716864817, 25.529411764705884: 0.00022016732716864817, 32.705882352941174: 0.00022016732716864817, 41.85294117647059: 0.00022016732716864817, 66.41176470588235: 0.00022016732716864817, 28.61764705882353: 0.00022016732716864817, 61.0: 0.00022016732716864817, 24.38235294117647: 0.00022016732716864817, 30.41176470588235: 0.00022016732716864817, 63.529411764705884: 0.00022016732716864817, 63.5: 0.00022016732716864817, 66.0: 0.00022016732716864817, 62.35294117647059: 0.00022016732716864817, 24.029411764705884: 0.00022016732716864817, 57.8235294117647: 0.00022016732716864817, 60.794117647058826: 0.00022016732716864817, 59.705882352941174: 0.00022016732716864817, 67.29411764705883: 0.00022016732716864817, 62.6764705882353: 0.00022016732716864817, 37.3235294117647: 0.00022016732716864817, 56.73529411764706: 0.00022016732716864817, 61.73529411764706: 0.00022016732716864817, 35.85294117647059: 0.00022016732716864817, 30.794117647058822: 0.00022016732716864817, 60.76470588235294: 0.00022016732716864817, 67.08823529411765: 0.00022016732716864817, 26.794117647058822: 0.00022016732716864817, 28.323529411764707: 0.00022016732716864817, 28.08823529411765: 0.00022016732716864817, 60.38235294117647: 0.00022016732716864817, 29.441176470588236: 0.00022016732716864817, 27.764705882352942: 0.00022016732716864817, 30.147058823529413: 0.00022016732716864817, 27.323529411764707: 0.00022016732716864817, 38.911764705882355: 0.00022016732716864817, 61.23529411764706: 0.00022016732716864817, 31.61764705882353: 0.00022016732716864817, 34.61764705882353: 0.00022016732716864817, 30.529411764705884: 0.00022016732716864817, 66.91176470588235: 0.00022016732716864817, 36.85294117647059: 0.00022016732716864817, 65.79411764705883: 0.00022016732716864817, 37.088235294117645: 0.00022016732716864817, 34.6764705882353: 0.00022016732716864817, 62.5: 0.00022016732716864817, 34.5: 0.00022016732716864817, 38.529411764705884: 0.00022016732716864817, 28.91176470588235: 0.00022016732716864817, 30.323529411764707: 0.00022016732716864817, 68.38235294117646: 0.00022016732716864817, 66.61764705882354: 0.00022016732716864817, 29.11764705882353: 0.00022016732716864817, 26.941176470588236: 0.00022016732716864817, 62.26470588235294: 0.00022016732716864817, 38.8235294117647: 0.00022016732716864817, 63.029411764705884: 0.00022016732716864817, 26.41176470588235: 0.00022016732716864817, 61.11764705882353: 0.00022016732716864817, 25.264705882352942: 0.00022016732716864817, 26.235294117647058: 0.00022016732716864817, 32.294117647058826: 0.00022016732716864817, 33.970588235294116: 0.00022016732716864817, 61.970588235294116: 0.00022016732716864817, 61.8235294117647: 0.00022016732716864817, 38.5: 0.00022016732716864817, 25.5: 0.00022016732716864817, 37.029411764705884: 0.00022016732716864817, 63.44117647058823: 0.00022016732716864817, 30.294117647058822: 0.00022016732716864817, 32.029411764705884: 0.00022016732716864817, 62.73529411764706: 0.00022016732716864817, 33.911764705882355: 0.00022016732716864817, 35.205882352941174: 0.00022016732716864817, 64.26470588235294: 0.00022016732716864817, 34.411764705882355: 0.00022016732716864817, 31.529411764705884: 0.00022016732716864817, 38.411764705882355: 0.00022016732716864817, 39.61764705882353: 0.00022016732716864817, 62.3235294117647: 0.00022016732716864817, 66.47058823529412: 0.00022016732716864817, 25.470588235294116: 0.00022016732716864817, 24.852941176470587: 0.00022016732716864817, 61.94117647058823: 0.00022016732716864817, 34.38235294117647: 0.00022016732716864817, 28.205882352941178: 0.00022016732716864817, 33.294117647058826: 0.00022016732716864817, 32.23529411764706: 0.00022016732716864817, 34.588235294117645: 0.00022016732716864817, 28.176470588235293: 0.00022016732716864817, 62.794117647058826: 0.00022016732716864817, 59.470588235294116: 0.00022016732716864817, 64.38235294117646: 0.00022016732716864817, 65.55882352941177: 0.00022016732716864817, 33.794117647058826: 0.00022016732716864817, 29.029411764705884: 0.00022016732716864817, 37.411764705882355: 0.00022016732716864817, 27.058823529411764: 0.00022016732716864817, 61.26470588235294: 0.00022016732716864817, 61.85294117647059: 0.00022016732716864817, 34.705882352941174: 0.00022016732716864817, 62.705882352941174: 0.00022016732716864817, 36.44117647058823: 0.00022016732716864817, 34.44117647058823: 0.00022016732716864817, 30.852941176470587: 0.00022016732716864817, 66.67647058823529: 0.00022016732716864817, 27.176470588235293: 0.00022016732716864817, 36.05882352941177: 0.00022016732716864817, 29.323529411764707: 0.00022016732716864817, 32.6764705882353: 0.00022016732716864817, 38.73529411764706: 0.00022016732716864817, 31.11764705882353: 0.00022016732716864817, 24.41176470588235: 0.00022016732716864817, 53.088235294117645: 0.00022016732716864817, 38.76470588235294: 0.00022016732716864817, 32.14705882352941: 0.00022016732716864817, 33.8235294117647: 0.00022016732716864817, 65.05882352941177: 0.00022016732716864817, 35.911764705882355: 0.00022016732716864817, 64.11764705882354: 0.00022016732716864817, 58.94117647058823: 0.00022016732716864817, 64.23529411764706: 0.00022016732716864817, 42.38235294117647: 0.00022016732716864817, 59.73529411764706: 0.00022016732716864817, 36.411764705882355: 0.00022016732716864817, 64.3529411764706: 0.00022016732716864817, 40.64705882352941: 0.00022016732716864817, 64.94117647058823: 0.00022016732716864817, 31.264705882352942: 0.00022016732716864817, 39.26470588235294: 0.00022016732716864817, 64.61764705882354: 0.00022016732716864817, 34.8235294117647: 0.00022016732716864817, 60.205882352941174: 0.00022016732716864817, 32.529411764705884: 0.00022016732716864817, 28.11764705882353: 0.00022016732716864817, 36.088235294117645: 0.00022016732716864817, 65.6470588235294: 0.00022016732716864817, 35.64705882352941: 0.00022016732716864817, 26.91176470588235: 0.00022016732716864817, 41.470588235294116: 0.00022016732716864817, 38.088235294117645: 0.00022016732716864817, 25.205882352941178: 0.00022016732716864817, 25.441176470588236: 0.00022016732716864817, 36.588235294117645: 0.00022016732716864817, 40.794117647058826: 0.00022016732716864817, 25.735294117647058: 0.00022016732716864817, 38.94117647058823: 0.00022016732716864817, 34.85294117647059: 0.00022016732716864817, 29.235294117647058: 0.00022016732716864817, 42.94117647058823: 0.00022016732716864817, 68.58823529411765: 0.00022016732716864817, 63.794117647058826: 0.00022016732716864817, 60.61764705882353: 0.00022016732716864817, 35.5: 0.00022016732716864817, 65.0: 0.00022016732716864817, 63.705882352941174: 0.00022016732716864817, 55.44117647058823: 0.00022016732716864817, 62.38235294117647: 0.00022016732716864817, 39.794117647058826: 0.00022016732716864817, 62.23529411764706: 0.00022016732716864817, 22.88235294117647: 0.00022016732716864817, 40.05882352941177: 0.00022016732716864817, 60.911764705882355: 0.00022016732716864817, 27.235294117647058: 0.00022016732716864817, 24.735294117647058: 0.00022016732716864817, 25.647058823529413: 0.00022016732716864817, 69.52941176470588: 0.00022016732716864817, 60.529411764705884: 0.00022016732716864817, 56.38235294117647: 0.00022016732716864817, 68.82352941176471: 0.00022016732716864817, 33.85294117647059: 0.00022016732716864817, 36.5: 0.00022016732716864817, 27.558823529411764: 0.00022016732716864817, 28.41176470588235: 0.00022016732716864817, 66.3529411764706: 0.00022016732716864817}, 'OveraMeanSkills')"
      ]
     },
     "execution_count": 53,
     "metadata": {},
     "output_type": "execute_result"
    }
   ],
   "source": [
    "pmf = thinkstats2.Pmf(df['MeanSkills'], label='OveraMeanSkills')\n",
    "pmf\n"
   ]
  },
  {
   "cell_type": "code",
   "execution_count": 54,
   "metadata": {
    "scrolled": true
   },
   "outputs": [
    {
     "data": {
      "image/png": "[encoded data removed]",
      "text/plain": [
       "<Figure size 432x288 with 1 Axes>"
      ]
     },
     "metadata": {
      "needs_background": "light"
     },
     "output_type": "display_data"
    }
   ],
   "source": [
    "thinkplot.Hist(pmf)\n",
    "thinkplot.Config(xlabel='MeanSkills', ylabel='Pmf')"
   ]
  },
  {
   "cell_type": "code",
   "execution_count": 55,
   "metadata": {},
   "outputs": [
    {
     "data": {
      "text/plain": [
       "Pmf({1.0: 0.9081902245706737, 2.0: 0.0717745486569793, 3.0: 0.016952884191985908, 4.0: 0.002862175253192426, 5.0: 0.00022016732716864817}, 'International Reputation')"
      ]
     },
     "execution_count": 55,
     "metadata": {},
     "output_type": "execute_result"
    }
   ],
   "source": [
    "pmf = thinkstats2.Pmf(df['International Reputation'], label='International Reputation')\n",
    "pmf"
   ]
  },
  {
   "cell_type": "code",
   "execution_count": 56,
   "metadata": {},
   "outputs": [
    {
     "data": {
      "image/png": "[encoded data removed]",
      "text/plain": [
       "<Figure size 432x288 with 1 Axes>"
      ]
     },
     "metadata": {
      "needs_background": "light"
     },
     "output_type": "display_data"
    }
   ],
   "source": [
    "thinkplot.Hist(pmf)\n",
    "thinkplot.Config(xlabel='International Reputation', ylabel='Pmf')"
   ]
  },
  {
   "cell_type": "code",
   "execution_count": 57,
   "metadata": {},
   "outputs": [
    {
     "data": {
      "text/plain": [
       "Pmf({2.0: 0.4625715543813298, 3.0: 0.3753852928225451, 1.0: 0.11074416556583003, 4.0: 0.0479964773227653, 5.0: 0.0033025099075297223}, 'Skill Moves')"
      ]
     },
     "execution_count": 57,
     "metadata": {},
     "output_type": "execute_result"
    }
   ],
   "source": [
    "pmf = thinkstats2.Pmf(df['Skill Moves'], label='Skill Moves')\n",
    "pmf"
   ]
  },
  {
   "cell_type": "code",
   "execution_count": 58,
   "metadata": {},
   "outputs": [
    {
     "data": {
      "image/png": "[encoded data removed]",
      "text/plain": [
       "<Figure size 432x288 with 1 Axes>"
      ]
     },
     "metadata": {
      "needs_background": "light"
     },
     "output_type": "display_data"
    }
   ],
   "source": [
    "thinkplot.Hist(pmf)\n",
    "thinkplot.Config(xlabel='Skill Moves', ylabel='Pmf')"
   ]
  },
  {
   "cell_type": "code",
   "execution_count": 60,
   "metadata": {},
   "outputs": [
    {
     "data": {
      "text/plain": [
       "Pmf({24: 0.08018453427065025, 21: 0.07535149384885764, 26: 0.0742530755711775, 23: 0.07381370826010544, 22: 0.07359402460456942, 25: 0.06985940246045694, 27: 0.06480667838312829, 20: 0.06480667838312829, 28: 0.0641476274165202, 29: 0.05755711775043936, 30: 0.05689806678383128, 19: 0.05448154657293497, 18: 0.0406414762741652, 31: 0.038884007029876974, 32: 0.02899824253075571, 34: 0.02218804920913884, 33: 0.017794376098418278, 17: 0.015597539543057995, 35: 0.008787346221441124, 36: 0.005931458699472759, 37: 0.0048330404217926184, 16: 0.002196836555360281, 38: 0.001977152899824253, 39: 0.0013181019332161687, 40: 0.0010984182776801405}, 'Age')"
      ]
     },
     "execution_count": 60,
     "metadata": {},
     "output_type": "execute_result"
    }
   ],
   "source": [
    "pmf = thinkstats2.Pmf(df['Age'], label='Age')\n",
    "pmf"
   ]
  },
  {
   "cell_type": "code",
   "execution_count": 61,
   "metadata": {},
   "outputs": [
    {
     "data": {
      "image/png": "[encoded data removed]",
      "text/plain": [
       "<Figure size 432x288 with 1 Axes>"
      ]
     },
     "metadata": {
      "needs_background": "light"
     },
     "output_type": "display_data"
    }
   ],
   "source": [
    "thinkplot.Hist(pmf)\n",
    "thinkplot.Config(xlabel='Age', ylabel='Pmf')"
   ]
  }
 ],
 "metadata": {
  "kernelspec": {
   "display_name": "Python 3",
   "language": "python",
   "name": "python3"
  },
  "language_info": {
   "codemirror_mode": {
    "name": "ipython",
    "version": 3
   },
   "file_extension": ".py",
   "mimetype": "text/x-python",
   "name": "python",
   "nbconvert_exporter": "python",
   "pygments_lexer": "ipython3",
   "version": "3.7.4"
  },
  "pycharm": {
   "stem_cell": {
    "cell_type": "raw",
    "source": [],
    "metadata": {
     "collapsed": false
    }
   }
  }
 },
 "nbformat": 4,
 "nbformat_minor": 1
}