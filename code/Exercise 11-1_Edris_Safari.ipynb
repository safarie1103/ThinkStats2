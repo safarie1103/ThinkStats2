{
 "cells": [
  {
   "cell_type": "markdown",
   "metadata": {
    "collapsed": true,
    "pycharm": {
     "name": "#%% md\n"
    }
   },
   "source": [
    "## File : Exercise 11-1_Edris_Safari.ipynb\n",
    "## Name:Edris Safari\n",
    "## Date:2/09/2019\n",
    "## Course: DSC530 - Data Exploration and Analysis\n",
    "## Desc: Week8 exercise 11-1 assignment"
   ]
  },
  {
   "cell_type": "markdown",
   "source": [
    "Suppose one of your co-workers is expecting a baby and you are participating in an office pool to predict the date of birth. Assuming that bets are placed during the 30th week of pregnancy, what variables could you use to make the best prediction? You should limit yourself to variables that are known before the birth, and likely to be available to the people in the pool."
   ],
   "metadata": {
    "collapsed": false
   }
  },
  {
   "cell_type": "code",
   "execution_count": 33,
   "outputs": [],
   "source": [
    "from __future__ import print_function, division\n",
    "import first\n",
    "import statsmodels.formula.api as smf"
   ],
   "metadata": {
    "collapsed": false,
    "pycharm": {
     "name": "#%%\n",
     "is_executing": false
    }
   }
  },
  {
   "cell_type": "markdown",
   "source": [
    "The known parameter is that the co-worker is 30 week pragnent, so we select data from the data set for participants with pregnancy rate greater than 30"
   ],
   "metadata": {
    "collapsed": false
   }
  },
  {
   "cell_type": "code",
   "execution_count": 34,
   "outputs": [
    {
     "data": {
      "text/plain": "'       caseid  pregordr  howpreg_n  howpreg_p  moscurrp  nowprgdk  pregend1  \\\\\\n0           1         1        NaN        NaN       NaN       NaN       6.0   \\n1           1         2        NaN        NaN       NaN       NaN       6.0   \\n2           2         1        NaN        NaN       NaN       NaN       5.0   \\n3           2         2        NaN        NaN       NaN       NaN       6.0   \\n4           2         3        NaN        NaN       NaN       NaN       6.0   \\n...       ...       ...        ...        ...       ...       ...       ...   \\n13581   12568         2        NaN        NaN       NaN       NaN       5.0   \\n13584   12569         2        NaN        NaN       NaN       NaN       6.0   \\n13588   12571         1        NaN        NaN       NaN       NaN       6.0   \\n13591   12571         4        NaN        NaN       NaN       NaN       6.0   \\n13592   12571         5        NaN        NaN       NaN       NaN       6.0   \\n\\n       pregend2  nbrnaliv  multbrth  ...  laborfor_i  religion_i  metro_i  \\\\\\n0           NaN       1.0       NaN  ...           0           0        0   \\n1           NaN       1.0       NaN  ...           0           0        0   \\n2           NaN       3.0       5.0  ...           0           0        0   \\n3           NaN       1.0       NaN  ...           0           0        0   \\n4           NaN       1.0       NaN  ...           0           0        0   \\n...         ...       ...       ...  ...         ...         ...      ...   \\n13581       NaN       1.0       NaN  ...           0           0        0   \\n13584       NaN       1.0       NaN  ...           0           0        0   \\n13588       NaN       1.0       NaN  ...           0           0        0   \\n13591       NaN       1.0       NaN  ...           0           0        0   \\n13592       NaN       1.0       NaN  ...           0           0        0   \\n\\n           basewgt  adj_mod_basewgt      finalwgt  secu_p  sest  cmintvw  \\\\\\n0      3410.389399      3869.349602   6448.271112       2     9      NaN   \\n1      3410.389399      3869.349602   6448.271112       2     9      NaN   \\n2      7226.301740      8567.549110  12999.542264       2    12      NaN   \\n3      7226.301740      8567.549110  12999.542264       2    12      NaN   \\n4      7226.301740      8567.549110  12999.542264       2    12      NaN   \\n...            ...              ...           ...     ...   ...      ...   \\n13581  2734.687353      4258.980140   7772.212858       2    28      NaN   \\n13584  2580.967613      2925.167116   5075.164946       2    61      NaN   \\n13588  4670.540953      5795.692880   6269.200989       1    78      NaN   \\n13591  4670.540953      5795.692880   6269.200989       1    78      NaN   \\n13592  4670.540953      5795.692880   6269.200989       1    78      NaN   \\n\\n       totalwgt_lb  \\n0           8.8125  \\n1           7.8750  \\n2           9.1250  \\n3           7.0000  \\n4           6.1875  \\n...            ...  \\n13581       6.3750  \\n13584       6.3750  \\n13588       6.1875  \\n13591       7.5000  \\n13592       7.5000  \\n\\n[8884 rows x 244 columns]'"
     },
     "metadata": {},
     "output_type": "execute_result",
     "execution_count": 34
    }
   ],
   "source": [
    "live, _, _ = first.MakeFrames()\n",
    "live = live[live.prglngth>30]\n",
    "str(live)"
   ],
   "metadata": {
    "collapsed": false,
    "pycharm": {
     "name": "#%%\n",
     "is_executing": false
    }
   }
  },
  {
   "cell_type": "markdown",
   "source": [
    "We want to see significance of agepreg, race, sex , number of babies born(i,e, twins, triplets)."
   ],
   "metadata": {
    "collapsed": false
   }
  },
  {
   "cell_type": "code",
   "execution_count": 29,
   "outputs": [
    {
     "data": {
      "text/plain": "<class 'statsmodels.iolib.summary.Summary'>\n\"\"\"\n                            OLS Regression Results                            \n==============================================================================\nDep. Variable:               prglngth   R-squared:                       0.011\nModel:                            OLS   Adj. R-squared:                  0.010\nMethod:                 Least Squares   F-statistic:                     19.74\nDate:                Sun, 09 Feb 2020   Prob (F-statistic):           1.28e-19\nTime:                        13:24:29   Log-Likelihood:                -18239.\nNo. Observations:                8878   AIC:                         3.649e+04\nDf Residuals:                    8872   BIC:                         3.653e+04\nDf Model:                           5                                         \nCovariance Type:            nonrobust                                         \n========================================================================================\n                           coef    std err          t      P>|t|      [0.025      0.975]\n----------------------------------------------------------------------------------------\nIntercept               38.8864      0.096    403.249      0.000      38.697      39.075\nC(race)[T.2]             0.1512      0.047      3.212      0.001       0.059       0.244\nC(race)[T.3]             0.0087      0.078      0.112      0.911      -0.144       0.161\nC(babysex)[T.2.0]       -0.0536      0.040     -1.337      0.181      -0.132       0.025\nnbrnaliv > 1[T.True]    -1.5096      0.165     -9.172      0.000      -1.832      -1.187\nagepreg                 -0.0023      0.004     -0.631      0.528      -0.009       0.005\n==============================================================================\nOmnibus:                     1568.664   Durbin-Watson:                   1.621\nProb(Omnibus):                  0.000   Jarque-Bera (JB):             6071.518\nSkew:                          -0.843   Prob(JB):                         0.00\nKurtosis:                       6.684   Cond. No.                         210.\n==============================================================================\n\nWarnings:\n[1] Standard Errors assume that the covariance matrix of the errors is correctly specified.\n\"\"\"",
      "text/html": "<table class=\"simpletable\">\n<caption>OLS Regression Results</caption>\n<tr>\n  <th>Dep. Variable:</th>        <td>prglngth</td>     <th>  R-squared:         </th> <td>   0.011</td> \n</tr>\n<tr>\n  <th>Model:</th>                   <td>OLS</td>       <th>  Adj. R-squared:    </th> <td>   0.010</td> \n</tr>\n<tr>\n  <th>Method:</th>             <td>Least Squares</td>  <th>  F-statistic:       </th> <td>   19.74</td> \n</tr>\n<tr>\n  <th>Date:</th>             <td>Sun, 09 Feb 2020</td> <th>  Prob (F-statistic):</th> <td>1.28e-19</td> \n</tr>\n<tr>\n  <th>Time:</th>                 <td>13:24:29</td>     <th>  Log-Likelihood:    </th> <td> -18239.</td> \n</tr>\n<tr>\n  <th>No. Observations:</th>      <td>  8878</td>      <th>  AIC:               </th> <td>3.649e+04</td>\n</tr>\n<tr>\n  <th>Df Residuals:</th>          <td>  8872</td>      <th>  BIC:               </th> <td>3.653e+04</td>\n</tr>\n<tr>\n  <th>Df Model:</th>              <td>     5</td>      <th>                     </th>     <td> </td>    \n</tr>\n<tr>\n  <th>Covariance Type:</th>      <td>nonrobust</td>    <th>                     </th>     <td> </td>    \n</tr>\n</table>\n<table class=\"simpletable\">\n<tr>\n            <td></td>              <th>coef</th>     <th>std err</th>      <th>t</th>      <th>P>|t|</th>  <th>[0.025</th>    <th>0.975]</th>  \n</tr>\n<tr>\n  <th>Intercept</th>            <td>   38.8864</td> <td>    0.096</td> <td>  403.249</td> <td> 0.000</td> <td>   38.697</td> <td>   39.075</td>\n</tr>\n<tr>\n  <th>C(race)[T.2]</th>         <td>    0.1512</td> <td>    0.047</td> <td>    3.212</td> <td> 0.001</td> <td>    0.059</td> <td>    0.244</td>\n</tr>\n<tr>\n  <th>C(race)[T.3]</th>         <td>    0.0087</td> <td>    0.078</td> <td>    0.112</td> <td> 0.911</td> <td>   -0.144</td> <td>    0.161</td>\n</tr>\n<tr>\n  <th>C(babysex)[T.2.0]</th>    <td>   -0.0536</td> <td>    0.040</td> <td>   -1.337</td> <td> 0.181</td> <td>   -0.132</td> <td>    0.025</td>\n</tr>\n<tr>\n  <th>nbrnaliv > 1[T.True]</th> <td>   -1.5096</td> <td>    0.165</td> <td>   -9.172</td> <td> 0.000</td> <td>   -1.832</td> <td>   -1.187</td>\n</tr>\n<tr>\n  <th>agepreg</th>              <td>   -0.0023</td> <td>    0.004</td> <td>   -0.631</td> <td> 0.528</td> <td>   -0.009</td> <td>    0.005</td>\n</tr>\n</table>\n<table class=\"simpletable\">\n<tr>\n  <th>Omnibus:</th>       <td>1568.664</td> <th>  Durbin-Watson:     </th> <td>   1.621</td>\n</tr>\n<tr>\n  <th>Prob(Omnibus):</th>  <td> 0.000</td>  <th>  Jarque-Bera (JB):  </th> <td>6071.518</td>\n</tr>\n<tr>\n  <th>Skew:</th>           <td>-0.843</td>  <th>  Prob(JB):          </th> <td>    0.00</td>\n</tr>\n<tr>\n  <th>Kurtosis:</th>       <td> 6.684</td>  <th>  Cond. No.          </th> <td>    210.</td>\n</tr>\n</table><br/><br/>Warnings:<br/>[1] Standard Errors assume that the covariance matrix of the errors is correctly specified."
     },
     "metadata": {},
     "output_type": "execute_result",
     "execution_count": 29
    }
   ],
   "source": [
    "formula = ('prglngth ~ agepreg + C(race) + C(babysex) + nbrnaliv>1')\n",
    "model = smf.ols(formula, data=live)\n",
    "results = model.fit()\n",
    "results.summary()"
   ],
   "metadata": {
    "collapsed": false,
    "pycharm": {
     "name": "#%%\n",
     "is_executing": false
    }
   }
  },
  {
   "cell_type": "markdown",
   "source": [
    "With these parameters, the intercept is 38 weeks. Sex and race T.3 don't seem to contribute much to pregnancy length."
   ],
   "metadata": {
    "collapsed": false
   }
  },
  {
   "cell_type": "code",
   "execution_count": 32,
   "outputs": [
    {
     "data": {
      "text/plain": "<class 'statsmodels.iolib.summary.Summary'>\n\"\"\"\n                            OLS Regression Results                            \n==============================================================================\nDep. Variable:               prglngth   R-squared:                       0.011\nModel:                            OLS   Adj. R-squared:                  0.011\nMethod:                 Least Squares   F-statistic:                     34.28\nDate:                Sun, 09 Feb 2020   Prob (F-statistic):           5.09e-22\nTime:                        13:33:13   Log-Likelihood:                -18247.\nNo. Observations:                8884   AIC:                         3.650e+04\nDf Residuals:                    8880   BIC:                         3.653e+04\nDf Model:                           3                                         \nCovariance Type:            nonrobust                                         \n=========================================================================================\n                            coef    std err          t      P>|t|      [0.025      0.975]\n-----------------------------------------------------------------------------------------\nIntercept                38.7617      0.039   1006.410      0.000      38.686      38.837\nbirthord == 1[T.True]     0.1015      0.040      2.528      0.011       0.023       0.180\nrace == 2[T.True]         0.1390      0.042      3.311      0.001       0.057       0.221\nnbrnaliv > 1[T.True]     -1.4944      0.164     -9.086      0.000      -1.817      -1.172\n==============================================================================\nOmnibus:                     1587.470   Durbin-Watson:                   1.619\nProb(Omnibus):                  0.000   Jarque-Bera (JB):             6160.751\nSkew:                          -0.852   Prob(JB):                         0.00\nKurtosis:                       6.707   Cond. No.                         10.9\n==============================================================================\n\nWarnings:\n[1] Standard Errors assume that the covariance matrix of the errors is correctly specified.\n\"\"\"",
      "text/html": "<table class=\"simpletable\">\n<caption>OLS Regression Results</caption>\n<tr>\n  <th>Dep. Variable:</th>        <td>prglngth</td>     <th>  R-squared:         </th> <td>   0.011</td> \n</tr>\n<tr>\n  <th>Model:</th>                   <td>OLS</td>       <th>  Adj. R-squared:    </th> <td>   0.011</td> \n</tr>\n<tr>\n  <th>Method:</th>             <td>Least Squares</td>  <th>  F-statistic:       </th> <td>   34.28</td> \n</tr>\n<tr>\n  <th>Date:</th>             <td>Sun, 09 Feb 2020</td> <th>  Prob (F-statistic):</th> <td>5.09e-22</td> \n</tr>\n<tr>\n  <th>Time:</th>                 <td>13:33:13</td>     <th>  Log-Likelihood:    </th> <td> -18247.</td> \n</tr>\n<tr>\n  <th>No. Observations:</th>      <td>  8884</td>      <th>  AIC:               </th> <td>3.650e+04</td>\n</tr>\n<tr>\n  <th>Df Residuals:</th>          <td>  8880</td>      <th>  BIC:               </th> <td>3.653e+04</td>\n</tr>\n<tr>\n  <th>Df Model:</th>              <td>     3</td>      <th>                     </th>     <td> </td>    \n</tr>\n<tr>\n  <th>Covariance Type:</th>      <td>nonrobust</td>    <th>                     </th>     <td> </td>    \n</tr>\n</table>\n<table class=\"simpletable\">\n<tr>\n            <td></td>               <th>coef</th>     <th>std err</th>      <th>t</th>      <th>P>|t|</th>  <th>[0.025</th>    <th>0.975]</th>  \n</tr>\n<tr>\n  <th>Intercept</th>             <td>   38.7617</td> <td>    0.039</td> <td> 1006.410</td> <td> 0.000</td> <td>   38.686</td> <td>   38.837</td>\n</tr>\n<tr>\n  <th>birthord == 1[T.True]</th> <td>    0.1015</td> <td>    0.040</td> <td>    2.528</td> <td> 0.011</td> <td>    0.023</td> <td>    0.180</td>\n</tr>\n<tr>\n  <th>race == 2[T.True]</th>     <td>    0.1390</td> <td>    0.042</td> <td>    3.311</td> <td> 0.001</td> <td>    0.057</td> <td>    0.221</td>\n</tr>\n<tr>\n  <th>nbrnaliv > 1[T.True]</th>  <td>   -1.4944</td> <td>    0.164</td> <td>   -9.086</td> <td> 0.000</td> <td>   -1.817</td> <td>   -1.172</td>\n</tr>\n</table>\n<table class=\"simpletable\">\n<tr>\n  <th>Omnibus:</th>       <td>1587.470</td> <th>  Durbin-Watson:     </th> <td>   1.619</td>\n</tr>\n<tr>\n  <th>Prob(Omnibus):</th>  <td> 0.000</td>  <th>  Jarque-Bera (JB):  </th> <td>6160.751</td>\n</tr>\n<tr>\n  <th>Skew:</th>           <td>-0.852</td>  <th>  Prob(JB):          </th> <td>    0.00</td>\n</tr>\n<tr>\n  <th>Kurtosis:</th>       <td> 6.707</td>  <th>  Cond. No.          </th> <td>    10.9</td>\n</tr>\n</table><br/><br/>Warnings:<br/>[1] Standard Errors assume that the covariance matrix of the errors is correctly specified."
     },
     "metadata": {},
     "output_type": "execute_result",
     "execution_count": 32
    }
   ],
   "source": [
    "formula = ('prglngth ~ birthord==1 + race==2 + nbrnaliv>1')\n",
    "model = smf.ols(formula, data=live)\n",
    "results = model.fit()\n",
    "results.summary()"
   ],
   "metadata": {
    "collapsed": false,
    "pycharm": {
     "name": "#%%\n",
     "is_executing": false
    }
   }
  },
  {
   "cell_type": "markdown",
   "source": [
    "This is a better model although more testing is needed. Perhaps making some predicitons and compare them."
   ],
   "metadata": {
    "collapsed": false,
    "pycharm": {
     "name": "#%% md\n"
    }
   }
  }
 ],
 "metadata": {
  "kernelspec": {
   "display_name": "Python 3",
   "language": "python",
   "name": "python3"
  },
  "language_info": {
   "codemirror_mode": {
    "name": "ipython",
    "version": 2
   },
   "file_extension": ".py",
   "mimetype": "text/x-python",
   "name": "python",
   "nbconvert_exporter": "python",
   "pygments_lexer": "ipython2",
   "version": "2.7.6"
  },
  "pycharm": {
   "stem_cell": {
    "cell_type": "raw",
    "source": [],
    "metadata": {
     "collapsed": false
    }
   }
  }
 },
 "nbformat": 4,
 "nbformat_minor": 0
}